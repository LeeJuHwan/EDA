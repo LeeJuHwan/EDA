{
 "cells": [
  {
   "cell_type": "code",
   "execution_count": 1,
   "id": "855c8d6d-a43b-44d7-833a-b5ffce9bc324",
   "metadata": {},
   "outputs": [],
   "source": [
    "import pandas as pd\n",
    "import numpy as np\n",
    "from sklearn.model_selection import train_test_split\n",
    "from sklearn.preprocessing import LabelEncoder\n",
    "from xgboost import XGBClassifier\n",
    "import lightgbm as lgb\n",
    "from sklearn.ensemble import RandomForestClassifier"
   ]
  },
  {
   "cell_type": "code",
   "execution_count": null,
   "id": "5362370d-8225-4f89-8cb1-94ccbe993180",
   "metadata": {},
   "outputs": [],
   "source": [
    "train[\"Group\"] = train[\"PassengerId\"].str[:4]"
   ]
  },
  {
   "cell_type": "markdown",
   "id": "f18510b9-413c-4e6c-9050-6fff1ef21b07",
   "metadata": {
    "jp-MarkdownHeadingCollapsed": true,
    "tags": []
   },
   "source": [
    "### HomePlanet"
   ]
  },
  {
   "cell_type": "code",
   "execution_count": 211,
   "id": "17275b35-b9c7-41c2-b892-7d64ebce4183",
   "metadata": {},
   "outputs": [],
   "source": [
    "train[\"Group\"] = train[\"PassengerId\"].str[:4]"
   ]
  },
  {
   "cell_type": "code",
   "execution_count": 356,
   "id": "87293aa5-102d-46fb-ae58-fe0cd154aa93",
   "metadata": {},
   "outputs": [],
   "source": [
    "mapping = {}\n",
    "for i,j in zip(home_group[\"Group\"], home_group[\"HomePlanet\"]) : \n",
    "    mapping[i] = j "
   ]
  },
  {
   "cell_type": "code",
   "execution_count": 213,
   "id": "05e7d911-f311-4b4e-8187-c1871af7d2c3",
   "metadata": {
    "tags": []
   },
   "outputs": [],
   "source": [
    "home_group = train.groupby([\"Group\",\"HomePlanet\"]).size().reset_index()"
   ]
  },
  {
   "cell_type": "code",
   "execution_count": 214,
   "id": "04e1848d-741e-4661-adc0-bea29fe72401",
   "metadata": {
    "tags": []
   },
   "outputs": [],
   "source": [
    "train[\"HomePlanet\"].fillna(train[\"Group\"].map(mapping), inplace = True)"
   ]
  },
  {
   "cell_type": "code",
   "execution_count": 215,
   "id": "13797aae-3762-4bad-8e14-26117daf8f89",
   "metadata": {},
   "outputs": [],
   "source": [
    "train[\"last_name\"] = train[\"Name\"].str.split(\" \").str[-1]\n",
    "# train[\"Name\"].str.split(\" \").str.get(1)"
   ]
  },
  {
   "cell_type": "code",
   "execution_count": 216,
   "id": "08fe3ab3-5945-4a91-af23-ca18f35d7a6f",
   "metadata": {},
   "outputs": [],
   "source": [
    "name_group = train.groupby([\"last_name\", \"HomePlanet\"]).size().reset_index()"
   ]
  },
  {
   "cell_type": "code",
   "execution_count": 217,
   "id": "f699be97-4fa4-4804-8282-2198ad8f7377",
   "metadata": {},
   "outputs": [],
   "source": [
    "mapping2 = {}\n",
    "for i,j in zip(name_group[\"last_name\"], name_group[\"HomePlanet\"]) : \n",
    "    mapping2[i] = j "
   ]
  },
  {
   "cell_type": "code",
   "execution_count": 218,
   "id": "299944d7-16b6-422e-8c8f-47fe4948bc74",
   "metadata": {},
   "outputs": [],
   "source": [
    "train[\"HomePlanet\"].fillna(train[\"last_name\"].map(mapping2), inplace = True)"
   ]
  },
  {
   "cell_type": "code",
   "execution_count": 219,
   "id": "e99c4a38-b863-469d-8f29-0dac4a306e8c",
   "metadata": {},
   "outputs": [],
   "source": [
    "mapping3 = {\"55 Cancri e\" : \"Europa\",\n",
    "           \"PSO J318.5-22\" : \"Earth\",\n",
    "           \"TRAPPIST-1e\" : \"Earth\"}"
   ]
  },
  {
   "cell_type": "code",
   "execution_count": 220,
   "id": "7a08d099-0952-436b-9689-e0bc043b71d3",
   "metadata": {},
   "outputs": [],
   "source": [
    "train[\"HomePlanet\"].fillna(train[\"Destination\"].map(mapping3), inplace = True)"
   ]
  },
  {
   "cell_type": "markdown",
   "id": "8371c6a1-478f-4b6c-a7b7-c735cebe395d",
   "metadata": {
    "jp-MarkdownHeadingCollapsed": true,
    "tags": []
   },
   "source": [
    "### VIP"
   ]
  },
  {
   "cell_type": "code",
   "execution_count": 221,
   "id": "86a50e17-e4ff-48a9-bcf8-4455146ecda4",
   "metadata": {},
   "outputs": [],
   "source": [
    "train[\"VIP\"].fillna(\"False\", inplace = True)"
   ]
  },
  {
   "cell_type": "markdown",
   "id": "a616eb77-4889-4591-8e4b-3087e3098b41",
   "metadata": {
    "jp-MarkdownHeadingCollapsed": true,
    "tags": []
   },
   "source": [
    "### bill"
   ]
  },
  {
   "cell_type": "code",
   "execution_count": 222,
   "id": "043b8f1b-179f-46d3-8801-6a16869a6779",
   "metadata": {},
   "outputs": [],
   "source": [
    "train[\"fee\"] = train[\"RoomService\"] + train[\"FoodCourt\"] + train[\"ShoppingMall\"] + train[\"Spa\"] + train[\"VRDeck\"]"
   ]
  },
  {
   "cell_type": "code",
   "execution_count": 223,
   "id": "cae6eb8a-f1d2-4cee-a5ce-a8201f1c752d",
   "metadata": {},
   "outputs": [],
   "source": [
    "fee_list = [\"RoomService\",\"FoodCourt\",\"ShoppingMall\",\"Spa\",\"VRDeck\"]"
   ]
  },
  {
   "cell_type": "code",
   "execution_count": 224,
   "id": "3d8df5b7-1bbf-46f6-a228-c9986985104a",
   "metadata": {},
   "outputs": [],
   "source": [
    "for col in fee_list : \n",
    "    train[col].fillna(train[col].median(), inplace = True)"
   ]
  },
  {
   "cell_type": "code",
   "execution_count": 225,
   "id": "435d893c-1653-4727-a875-4559592d622f",
   "metadata": {},
   "outputs": [],
   "source": [
    "train[\"fee\"] = train[\"RoomService\"] + train[\"FoodCourt\"] + train[\"ShoppingMall\"] + train[\"Spa\"] + train[\"VRDeck\"]"
   ]
  },
  {
   "cell_type": "code",
   "execution_count": 226,
   "id": "3e1b2ab3-550a-4502-90ea-2a3ce0604594",
   "metadata": {},
   "outputs": [],
   "source": [
    "train.drop([\"RoomService\",\"FoodCourt\",\"ShoppingMall\",\"Spa\",\"VRDeck\"], axis = 1, inplace = True)"
   ]
  },
  {
   "cell_type": "markdown",
   "id": "1bef86af-a184-4b32-b49b-9fd7ceabe56f",
   "metadata": {
    "jp-MarkdownHeadingCollapsed": true,
    "tags": []
   },
   "source": [
    "### Cabin"
   ]
  },
  {
   "cell_type": "code",
   "execution_count": 227,
   "id": "14636e4e-c062-40a8-913f-fc0fb0cfbd68",
   "metadata": {},
   "outputs": [],
   "source": [
    "train[\"deck\"] = train[\"Cabin\"].str.split(\"/\").str[0]"
   ]
  },
  {
   "cell_type": "code",
   "execution_count": 228,
   "id": "8a56c82c-a2be-4328-a39b-45b560881b67",
   "metadata": {},
   "outputs": [],
   "source": [
    "train[\"side\"] = train[\"Cabin\"].str.split(\"/\").str[-1]"
   ]
  },
  {
   "cell_type": "code",
   "execution_count": 232,
   "id": "0b8585f3-9457-4dd6-9643-6cfc2eba93b0",
   "metadata": {},
   "outputs": [],
   "source": [
    "train[\"deck\"].fillna(train[\"HomePlanet\"].map({\"Earth\" : \"G\", \"Europa\" : \"B\", \"Mars\" : \"F\"}), inplace = True)"
   ]
  },
  {
   "cell_type": "code",
   "execution_count": 238,
   "id": "58a401a4-2061-4b54-9e01-28d6a9757ae9",
   "metadata": {},
   "outputs": [],
   "source": [
    "side_group = train.groupby([\"Group\",\"side\"]).size().reset_index()"
   ]
  },
  {
   "cell_type": "code",
   "execution_count": 244,
   "id": "05d8f781-9b99-4d6f-b7f4-bc809d869a81",
   "metadata": {},
   "outputs": [],
   "source": [
    "mapping4 = {}\n",
    "for i,j in zip(side_group[\"Group\"], side_group[\"side\"]) :\n",
    "    mapping4[i] = j"
   ]
  },
  {
   "cell_type": "code",
   "execution_count": 250,
   "id": "6d14d933-b4c5-40e7-8e33-971e142b5403",
   "metadata": {},
   "outputs": [],
   "source": [
    "train[\"side\"].fillna(train[\"Group\"].map(mapping4), inplace = True)"
   ]
  },
  {
   "cell_type": "code",
   "execution_count": 256,
   "id": "9cb6a97d-76c2-422f-bf5b-70811e9e5027",
   "metadata": {},
   "outputs": [],
   "source": [
    "train[\"side\"].fillna(\"S\", inplace = True)"
   ]
  },
  {
   "cell_type": "markdown",
   "id": "1656cfb1-65d1-4fe5-b644-e73d8d87d652",
   "metadata": {
    "jp-MarkdownHeadingCollapsed": true,
    "tags": []
   },
   "source": [
    "## Destination"
   ]
  },
  {
   "cell_type": "code",
   "execution_count": 261,
   "id": "227aa867-946e-410a-89ce-625a97271dac",
   "metadata": {},
   "outputs": [],
   "source": [
    "dest_group = train.groupby([\"Group\", \"Destination\"]).size().reset_index()"
   ]
  },
  {
   "cell_type": "code",
   "execution_count": 263,
   "id": "1877fc4c-b6a5-4e91-9bd4-ead00bc56980",
   "metadata": {},
   "outputs": [],
   "source": [
    "dest_group = dest_group.sort_values(0, ascending = False)"
   ]
  },
  {
   "cell_type": "code",
   "execution_count": 270,
   "id": "ca659e51-7e4a-4879-8333-0dc52a61b543",
   "metadata": {},
   "outputs": [],
   "source": [
    "dest_group = dest_group.drop_duplicates()"
   ]
  },
  {
   "cell_type": "code",
   "execution_count": 280,
   "id": "3306bc97-f1f9-4950-8d82-1ab7613d4bd7",
   "metadata": {},
   "outputs": [],
   "source": [
    "mapping5 = {}\n",
    "for i, j in zip(dest_group[\"Group\"], dest_group[\"Destination\"]) :\n",
    "    mapping5[i] = j "
   ]
  },
  {
   "cell_type": "code",
   "execution_count": 281,
   "id": "840d9975-05ac-4559-b362-231cf31fcfbe",
   "metadata": {},
   "outputs": [],
   "source": [
    "train[\"Destination\"].fillna(train[\"Group\"].map(mapping5), inplace = True)"
   ]
  },
  {
   "cell_type": "code",
   "execution_count": 284,
   "id": "a69c952c-8f61-446f-bc4c-8057cbc96232",
   "metadata": {},
   "outputs": [],
   "source": [
    "train[\"Destination\"].fillna(\"TRAPPIST-1e\", inplace = True)"
   ]
  },
  {
   "cell_type": "markdown",
   "id": "66453be7-3c91-4528-9b53-38257a046aa6",
   "metadata": {
    "jp-MarkdownHeadingCollapsed": true,
    "tags": []
   },
   "source": [
    "## CryoSleep"
   ]
  },
  {
   "cell_type": "code",
   "execution_count": 293,
   "id": "f17c2281-a726-4639-bf36-dc854f95c242",
   "metadata": {},
   "outputs": [],
   "source": [
    "train[\"CryoSleep\"] = np.where(train[\"fee\"] > 0, False, True)"
   ]
  },
  {
   "cell_type": "markdown",
   "id": "a1fb5b50-4431-4239-b2e1-031b81a0320e",
   "metadata": {
    "tags": []
   },
   "source": [
    "## AGE"
   ]
  },
  {
   "cell_type": "code",
   "execution_count": 296,
   "id": "0232e77e-96ca-4906-90b1-6e40c8c69c34",
   "metadata": {},
   "outputs": [],
   "source": [
    "train[\"Age\"].fillna(train[\"Age\"].median(), inplace = True)"
   ]
  },
  {
   "cell_type": "code",
   "execution_count": null,
   "id": "a0325d07-2258-4d99-b9e9-f8d9d72fcc7a",
   "metadata": {},
   "outputs": [],
   "source": []
  },
  {
   "cell_type": "markdown",
   "id": "f57a36f6-aca5-4066-9736-1ec734e018cd",
   "metadata": {
    "tags": []
   },
   "source": [
    "# feature에 사용되지 않는 컬럼 삭제"
   ]
  },
  {
   "cell_type": "code",
   "execution_count": 298,
   "id": "dbf8aa27-3716-42df-8e44-fdef693d3ce1",
   "metadata": {},
   "outputs": [
    {
     "data": {
      "text/plain": [
       "Index(['PassengerId', 'HomePlanet', 'CryoSleep', 'Cabin', 'Destination', 'Age',\n",
       "       'VIP', 'Name', 'Transported', 'Group', 'last_name', 'fee', 'deck',\n",
       "       'side'],\n",
       "      dtype='object')"
      ]
     },
     "execution_count": 298,
     "metadata": {},
     "output_type": "execute_result"
    }
   ],
   "source": [
    "train.columns"
   ]
  },
  {
   "cell_type": "code",
   "execution_count": 299,
   "id": "9f71f72c-7172-4f57-8089-5e6590fabc0a",
   "metadata": {},
   "outputs": [],
   "source": [
    "del_col = [\"PassengerId\", \"Name\", \"last_name\", \"Cabin\"]"
   ]
  },
  {
   "cell_type": "code",
   "execution_count": 301,
   "id": "73df7bac-22e8-4c05-8d05-92262d8d7f3c",
   "metadata": {},
   "outputs": [],
   "source": [
    "train = train.drop(del_col, axis = 1)"
   ]
  },
  {
   "cell_type": "raw",
   "id": "517e2332-c689-4257-b558-8f2df5f431f3",
   "metadata": {
    "jp-MarkdownHeadingCollapsed": true,
    "tags": []
   },
   "source": [
    "# 원 핫 인코딩"
   ]
  },
  {
   "cell_type": "code",
   "execution_count": 304,
   "id": "6004ba17-950c-4200-85d6-14c90b6d299b",
   "metadata": {},
   "outputs": [],
   "source": [
    "from sklearn.preprocessing import LabelEncoder"
   ]
  },
  {
   "cell_type": "code",
   "execution_count": 330,
   "id": "5b1d932f-6c32-473c-8351-a7b69c6222ce",
   "metadata": {},
   "outputs": [],
   "source": [
    "train[\"VIP\"] = train[\"VIP\"].astype(bool)"
   ]
  },
  {
   "cell_type": "code",
   "execution_count": 325,
   "id": "ca2fc23b-3119-4e16-bafa-15faf6838d07",
   "metadata": {},
   "outputs": [],
   "source": [
    "obj_col = []\n",
    "for i,j in zip(train.columns, train.dtypes) :\n",
    "    if j == \"object\" :\n",
    "        obj_col.append(i)"
   ]
  },
  {
   "cell_type": "code",
   "execution_count": 333,
   "id": "f30de9df-59a6-4df2-80c6-86fdce56ba19",
   "metadata": {
    "tags": []
   },
   "outputs": [],
   "source": [
    "for col in obj_col :\n",
    "    label = LabelEncoder()\n",
    "    train[col] = label.fit_transform(train[col])"
   ]
  },
  {
   "cell_type": "code",
   "execution_count": 2,
   "id": "f47624ce-6dd7-4f72-a370-b3c3ecd4daae",
   "metadata": {},
   "outputs": [
    {
     "ename": "NameError",
     "evalue": "name 'pickl' is not defined",
     "output_type": "error",
     "traceback": [
      "\u001b[1;31m---------------------------------------------------------------------------\u001b[0m",
      "\u001b[1;31mNameError\u001b[0m                                 Traceback (most recent call last)",
      "Input \u001b[1;32mIn [2]\u001b[0m, in \u001b[0;36m<cell line: 1>\u001b[1;34m()\u001b[0m\n\u001b[0;32m      1\u001b[0m \u001b[38;5;28;01mwith\u001b[39;00m \u001b[38;5;28mopen\u001b[39m(\u001b[38;5;124m\"\u001b[39m\u001b[38;5;124mmodel.pkl\u001b[39m\u001b[38;5;124m\"\u001b[39m, \u001b[38;5;124m\"\u001b[39m\u001b[38;5;124mrb\u001b[39m\u001b[38;5;124m\"\u001b[39m) \u001b[38;5;28;01mas\u001b[39;00m r :\n\u001b[1;32m----> 2\u001b[0m     model \u001b[38;5;241m=\u001b[39m \u001b[43mpickl\u001b[49m\u001b[38;5;241m.\u001b[39mload(r)\n",
      "\u001b[1;31mNameError\u001b[0m: name 'pickl' is not defined"
     ]
    }
   ],
   "source": [
    "with open(\"model.pkl\", \"rb\") as r :\n",
    "    model = pickl.load(r)"
   ]
  },
  {
   "cell_type": "code",
   "execution_count": null,
   "id": "8b215a93-5217-4971-9e04-e72b1f9f167c",
   "metadata": {},
   "outputs": [],
   "source": []
  },
  {
   "cell_type": "code",
   "execution_count": null,
   "id": "97109906-a76f-4412-9f60-081a465fae7e",
   "metadata": {},
   "outputs": [],
   "source": []
  }
 ],
 "metadata": {
  "kernelspec": {
   "display_name": "Python 3 (ipykernel)",
   "language": "python",
   "name": "python3"
  },
  "language_info": {
   "codemirror_mode": {
    "name": "ipython",
    "version": 3
   },
   "file_extension": ".py",
   "mimetype": "text/x-python",
   "name": "python",
   "nbconvert_exporter": "python",
   "pygments_lexer": "ipython3",
   "version": "3.9.12"
  }
 },
 "nbformat": 4,
 "nbformat_minor": 5
}
