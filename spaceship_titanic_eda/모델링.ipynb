{
 "cells": [
  {
   "cell_type": "markdown",
   "id": "31fdc439-3376-48cc-83b6-04c2edb7e0a1",
   "metadata": {
    "jp-MarkdownHeadingCollapsed": true,
    "tags": []
   },
   "source": [
    "# 라이브러리 호출"
   ]
  },
  {
   "cell_type": "code",
   "execution_count": 1,
   "id": "c142bdc7-b0a2-4504-9dbd-749ce332a8ef",
   "metadata": {},
   "outputs": [],
   "source": [
    "import pandas as pd\n",
    "import numpy as np\n",
    "import seaborn as sns\n",
    "import matplotlib.pyplot as plt\n",
    "from sklearn.model_selection import train_test_split"
   ]
  },
  {
   "cell_type": "markdown",
   "id": "378a5265-09bd-45fc-847b-4d72e72b2a95",
   "metadata": {
    "jp-MarkdownHeadingCollapsed": true,
    "tags": []
   },
   "source": [
    "# 데이터 불러오기"
   ]
  },
  {
   "cell_type": "code",
   "execution_count": 204,
   "id": "6c90fcad-e1da-4930-be93-f07e69991b62",
   "metadata": {},
   "outputs": [],
   "source": [
    "train = pd.read_csv(\"train.csv\")"
   ]
  },
  {
   "cell_type": "code",
   "execution_count": 90,
   "id": "aa892b5a-2c05-4258-8873-37670b6c94c2",
   "metadata": {},
   "outputs": [],
   "source": [
    "test = pd.read_csv(\"test.csv\")"
   ]
  },
  {
   "cell_type": "code",
   "execution_count": 91,
   "id": "6d4853c6-c411-49cc-8249-ea1de435b57f",
   "metadata": {},
   "outputs": [],
   "source": [
    "sub = pd.read_csv(\"sample_submission.csv\")"
   ]
  },
  {
   "cell_type": "markdown",
   "id": "d5b9a50d-c198-4d65-8370-29a33d0cf205",
   "metadata": {
    "jp-MarkdownHeadingCollapsed": true,
    "tags": []
   },
   "source": [
    "### 1.컬럼 명 파악\n",
    "- PassengerId - 승객의 고유 ID : gggg - pp = 그룹과 고유인원의 ID \n",
    "- HomePlanet - 거주하고 있는 행성(또는 출발한 행성)\n",
    "- CryoSleep - 냉동수면 여부\n",
    "- Cabin - 객실 정보(구역/번호/방향)\n",
    "- Destination - 목적지\n",
    "- Age - 나이 \n",
    "- VIP - VIP 티켓 여부\n",
    "- RoomService, FoodCourt, ShoppingMall, Spa, VRDeck - 선박 내에서 편의시설을 이용한 금액\n",
    "- name - 승객 이름"
   ]
  },
  {
   "cell_type": "code",
   "execution_count": null,
   "id": "ea7a864e-9cd2-4900-a6af-842ce6791956",
   "metadata": {},
   "outputs": [],
   "source": [
    "obj_col = [\"PassengerId\", \"HomePlanet\", \"CryoSleep\", \"Cabin\", \"Destination\", \"VIP\"]"
   ]
  },
  {
   "cell_type": "code",
   "execution_count": null,
   "id": "a5391aac-6b92-4f24-a5e1-ce6c911321f7",
   "metadata": {},
   "outputs": [
    {
     "name": "stdout",
     "output_type": "stream",
     "text": [
      "['0001_01' '0002_01' '0003_01' ... '9279_01' '9280_01' '9280_02']\n",
      "['Europa' 'Earth' 'Mars' nan]\n",
      "[False True nan]\n",
      "['B/0/P' 'F/0/S' 'A/0/S' ... 'G/1499/S' 'G/1500/S' 'E/608/S']\n",
      "['TRAPPIST-1e' 'PSO J318.5-22' '55 Cancri e' nan]\n",
      "[False True nan]\n"
     ]
    }
   ],
   "source": [
    "for col in obj_col :\n",
    "    print(train[col].unique())"
   ]
  },
  {
   "cell_type": "code",
   "execution_count": null,
   "id": "6bd92a41-dad5-4cfe-b7eb-4e6089bcfb34",
   "metadata": {},
   "outputs": [
    {
     "data": {
      "text/plain": [
       "VIP    Transported\n",
       "False  False          4093\n",
       "       True           4198\n",
       "True   False           123\n",
       "       True             76\n",
       "dtype: int64"
      ]
     },
     "execution_count": 14,
     "metadata": {},
     "output_type": "execute_result"
    }
   ],
   "source": [
    "train.groupby([\"VIP\",\"Transported\"]).size()"
   ]
  },
  {
   "cell_type": "markdown",
   "id": "d5877f0b-263d-4c90-96bf-7af13e356301",
   "metadata": {
    "jp-MarkdownHeadingCollapsed": true,
    "tags": []
   },
   "source": [
    "# EDA"
   ]
  },
  {
   "cell_type": "markdown",
   "id": "910d64ce-5518-47ef-b863-d34b4c5abfec",
   "metadata": {
    "jp-MarkdownHeadingCollapsed": true,
    "tags": []
   },
   "source": [
    "#### VIP별, 출발행성 별 분석하기"
   ]
  },
  {
   "cell_type": "code",
   "execution_count": null,
   "id": "89935282-9028-4794-b2e1-38bb9761f423",
   "metadata": {},
   "outputs": [
    {
     "data": {
      "text/plain": [
       "VIP    HomePlanet\n",
       "False  Earth         4487\n",
       "       Europa        1958\n",
       "       Mars          1653\n",
       "True   Europa         131\n",
       "       Mars            63\n",
       "dtype: int64"
      ]
     },
     "execution_count": 15,
     "metadata": {},
     "output_type": "execute_result"
    }
   ],
   "source": [
    "train.groupby([\"VIP\",\"HomePlanet\"]).size()"
   ]
  },
  {
   "cell_type": "markdown",
   "id": "f243bda5-4f1b-4e2a-b6f8-b517724dd01b",
   "metadata": {
    "jp-MarkdownHeadingCollapsed": true,
    "tags": []
   },
   "source": [
    "#### PassengerId에서 그룹을 나누어 출발지역이 같은지 확인"
   ]
  },
  {
   "cell_type": "code",
   "execution_count": 161,
   "id": "734f7c04-9a03-4aad-9297-98e6dc47a869",
   "metadata": {},
   "outputs": [],
   "source": [
    "train[\"Group\"] = train[\"PassengerId\"].str[:4]"
   ]
  },
  {
   "cell_type": "code",
   "execution_count": 162,
   "id": "153c3942-7411-4aa6-9b7f-228f14c5dc9c",
   "metadata": {},
   "outputs": [],
   "source": [
    "home_group = train.groupby([\"Group\",\"HomePlanet\"]).size().reset_index()"
   ]
  },
  {
   "cell_type": "code",
   "execution_count": null,
   "id": "45160c43-c5b1-4df4-b4ce-9c51701782b5",
   "metadata": {},
   "outputs": [
    {
     "data": {
      "text/html": [
       "<div>\n",
       "<style scoped>\n",
       "    .dataframe tbody tr th:only-of-type {\n",
       "        vertical-align: middle;\n",
       "    }\n",
       "\n",
       "    .dataframe tbody tr th {\n",
       "        vertical-align: top;\n",
       "    }\n",
       "\n",
       "    .dataframe thead th {\n",
       "        text-align: right;\n",
       "    }\n",
       "</style>\n",
       "<table border=\"1\" class=\"dataframe\">\n",
       "  <thead>\n",
       "    <tr style=\"text-align: right;\">\n",
       "      <th></th>\n",
       "      <th>Group</th>\n",
       "      <th>HomePlanet</th>\n",
       "      <th>0</th>\n",
       "    </tr>\n",
       "  </thead>\n",
       "  <tbody>\n",
       "  </tbody>\n",
       "</table>\n",
       "</div>"
      ],
      "text/plain": [
       "Empty DataFrame\n",
       "Columns: [Group, HomePlanet, 0]\n",
       "Index: []"
      ]
     },
     "execution_count": 23,
     "metadata": {},
     "output_type": "execute_result"
    }
   ],
   "source": [
    "home_group[home_group[\"Group\"].duplicated()]"
   ]
  },
  {
   "cell_type": "code",
   "execution_count": null,
   "id": "474db615-9d62-4f85-89e5-67edd4d4226c",
   "metadata": {},
   "outputs": [
    {
     "data": {
      "text/html": [
       "<div>\n",
       "<style scoped>\n",
       "    .dataframe tbody tr th:only-of-type {\n",
       "        vertical-align: middle;\n",
       "    }\n",
       "\n",
       "    .dataframe tbody tr th {\n",
       "        vertical-align: top;\n",
       "    }\n",
       "\n",
       "    .dataframe thead th {\n",
       "        text-align: right;\n",
       "    }\n",
       "</style>\n",
       "<table border=\"1\" class=\"dataframe\">\n",
       "  <thead>\n",
       "    <tr style=\"text-align: right;\">\n",
       "      <th></th>\n",
       "      <th>PassengerId</th>\n",
       "      <th>HomePlanet</th>\n",
       "      <th>CryoSleep</th>\n",
       "      <th>Cabin</th>\n",
       "      <th>Destination</th>\n",
       "      <th>Age</th>\n",
       "      <th>VIP</th>\n",
       "      <th>RoomService</th>\n",
       "      <th>FoodCourt</th>\n",
       "      <th>ShoppingMall</th>\n",
       "      <th>Spa</th>\n",
       "      <th>VRDeck</th>\n",
       "      <th>Name</th>\n",
       "      <th>Transported</th>\n",
       "    </tr>\n",
       "  </thead>\n",
       "  <tbody>\n",
       "    <tr>\n",
       "      <th>59</th>\n",
       "      <td>0064_02</td>\n",
       "      <td>NaN</td>\n",
       "      <td>True</td>\n",
       "      <td>E/3/S</td>\n",
       "      <td>TRAPPIST-1e</td>\n",
       "      <td>33.0</td>\n",
       "      <td>False</td>\n",
       "      <td>0.0</td>\n",
       "      <td>0.0</td>\n",
       "      <td>NaN</td>\n",
       "      <td>0.0</td>\n",
       "      <td>0.0</td>\n",
       "      <td>Colatz Keen</td>\n",
       "      <td>True</td>\n",
       "    </tr>\n",
       "    <tr>\n",
       "      <th>113</th>\n",
       "      <td>0119_01</td>\n",
       "      <td>NaN</td>\n",
       "      <td>False</td>\n",
       "      <td>A/0/P</td>\n",
       "      <td>TRAPPIST-1e</td>\n",
       "      <td>39.0</td>\n",
       "      <td>False</td>\n",
       "      <td>0.0</td>\n",
       "      <td>2344.0</td>\n",
       "      <td>0.0</td>\n",
       "      <td>65.0</td>\n",
       "      <td>6898.0</td>\n",
       "      <td>Batan Coning</td>\n",
       "      <td>False</td>\n",
       "    </tr>\n",
       "    <tr>\n",
       "      <th>186</th>\n",
       "      <td>0210_01</td>\n",
       "      <td>NaN</td>\n",
       "      <td>True</td>\n",
       "      <td>D/6/P</td>\n",
       "      <td>55 Cancri e</td>\n",
       "      <td>24.0</td>\n",
       "      <td>False</td>\n",
       "      <td>0.0</td>\n",
       "      <td>0.0</td>\n",
       "      <td>NaN</td>\n",
       "      <td>0.0</td>\n",
       "      <td>0.0</td>\n",
       "      <td>Arraid Inicont</td>\n",
       "      <td>True</td>\n",
       "    </tr>\n",
       "    <tr>\n",
       "      <th>225</th>\n",
       "      <td>0242_01</td>\n",
       "      <td>NaN</td>\n",
       "      <td>False</td>\n",
       "      <td>F/46/S</td>\n",
       "      <td>TRAPPIST-1e</td>\n",
       "      <td>18.0</td>\n",
       "      <td>False</td>\n",
       "      <td>313.0</td>\n",
       "      <td>1.0</td>\n",
       "      <td>691.0</td>\n",
       "      <td>283.0</td>\n",
       "      <td>0.0</td>\n",
       "      <td>Almone Sté</td>\n",
       "      <td>False</td>\n",
       "    </tr>\n",
       "    <tr>\n",
       "      <th>234</th>\n",
       "      <td>0251_01</td>\n",
       "      <td>NaN</td>\n",
       "      <td>True</td>\n",
       "      <td>C/11/S</td>\n",
       "      <td>55 Cancri e</td>\n",
       "      <td>54.0</td>\n",
       "      <td>False</td>\n",
       "      <td>0.0</td>\n",
       "      <td>0.0</td>\n",
       "      <td>0.0</td>\n",
       "      <td>0.0</td>\n",
       "      <td>0.0</td>\n",
       "      <td>Diphah Amsive</td>\n",
       "      <td>True</td>\n",
       "    </tr>\n",
       "    <tr>\n",
       "      <th>...</th>\n",
       "      <td>...</td>\n",
       "      <td>...</td>\n",
       "      <td>...</td>\n",
       "      <td>...</td>\n",
       "      <td>...</td>\n",
       "      <td>...</td>\n",
       "      <td>...</td>\n",
       "      <td>...</td>\n",
       "      <td>...</td>\n",
       "      <td>...</td>\n",
       "      <td>...</td>\n",
       "      <td>...</td>\n",
       "      <td>...</td>\n",
       "      <td>...</td>\n",
       "    </tr>\n",
       "    <tr>\n",
       "      <th>8515</th>\n",
       "      <td>9084_01</td>\n",
       "      <td>NaN</td>\n",
       "      <td>False</td>\n",
       "      <td>E/582/P</td>\n",
       "      <td>TRAPPIST-1e</td>\n",
       "      <td>25.0</td>\n",
       "      <td>False</td>\n",
       "      <td>1258.0</td>\n",
       "      <td>0.0</td>\n",
       "      <td>22.0</td>\n",
       "      <td>19.0</td>\n",
       "      <td>0.0</td>\n",
       "      <td>Jurs Mone</td>\n",
       "      <td>False</td>\n",
       "    </tr>\n",
       "    <tr>\n",
       "      <th>8613</th>\n",
       "      <td>9194_01</td>\n",
       "      <td>NaN</td>\n",
       "      <td>False</td>\n",
       "      <td>E/603/S</td>\n",
       "      <td>55 Cancri e</td>\n",
       "      <td>53.0</td>\n",
       "      <td>False</td>\n",
       "      <td>0.0</td>\n",
       "      <td>4017.0</td>\n",
       "      <td>0.0</td>\n",
       "      <td>13.0</td>\n",
       "      <td>3147.0</td>\n",
       "      <td>NaN</td>\n",
       "      <td>False</td>\n",
       "    </tr>\n",
       "    <tr>\n",
       "      <th>8666</th>\n",
       "      <td>9248_01</td>\n",
       "      <td>NaN</td>\n",
       "      <td>False</td>\n",
       "      <td>F/1792/S</td>\n",
       "      <td>55 Cancri e</td>\n",
       "      <td>38.0</td>\n",
       "      <td>NaN</td>\n",
       "      <td>28.0</td>\n",
       "      <td>1208.0</td>\n",
       "      <td>973.0</td>\n",
       "      <td>207.0</td>\n",
       "      <td>0.0</td>\n",
       "      <td>Gian Perle</td>\n",
       "      <td>True</td>\n",
       "    </tr>\n",
       "    <tr>\n",
       "      <th>8674</th>\n",
       "      <td>9257_01</td>\n",
       "      <td>NaN</td>\n",
       "      <td>False</td>\n",
       "      <td>F/1892/P</td>\n",
       "      <td>TRAPPIST-1e</td>\n",
       "      <td>13.0</td>\n",
       "      <td>False</td>\n",
       "      <td>39.0</td>\n",
       "      <td>0.0</td>\n",
       "      <td>1085.0</td>\n",
       "      <td>24.0</td>\n",
       "      <td>0.0</td>\n",
       "      <td>Ties Apple</td>\n",
       "      <td>False</td>\n",
       "    </tr>\n",
       "    <tr>\n",
       "      <th>8684</th>\n",
       "      <td>9274_01</td>\n",
       "      <td>NaN</td>\n",
       "      <td>True</td>\n",
       "      <td>G/1508/P</td>\n",
       "      <td>TRAPPIST-1e</td>\n",
       "      <td>23.0</td>\n",
       "      <td>False</td>\n",
       "      <td>0.0</td>\n",
       "      <td>0.0</td>\n",
       "      <td>0.0</td>\n",
       "      <td>0.0</td>\n",
       "      <td>0.0</td>\n",
       "      <td>Chelsa Bullisey</td>\n",
       "      <td>True</td>\n",
       "    </tr>\n",
       "  </tbody>\n",
       "</table>\n",
       "<p>201 rows × 14 columns</p>\n",
       "</div>"
      ],
      "text/plain": [
       "     PassengerId HomePlanet CryoSleep     Cabin  Destination   Age    VIP  \\\n",
       "59       0064_02        NaN      True     E/3/S  TRAPPIST-1e  33.0  False   \n",
       "113      0119_01        NaN     False     A/0/P  TRAPPIST-1e  39.0  False   \n",
       "186      0210_01        NaN      True     D/6/P  55 Cancri e  24.0  False   \n",
       "225      0242_01        NaN     False    F/46/S  TRAPPIST-1e  18.0  False   \n",
       "234      0251_01        NaN      True    C/11/S  55 Cancri e  54.0  False   \n",
       "...          ...        ...       ...       ...          ...   ...    ...   \n",
       "8515     9084_01        NaN     False   E/582/P  TRAPPIST-1e  25.0  False   \n",
       "8613     9194_01        NaN     False   E/603/S  55 Cancri e  53.0  False   \n",
       "8666     9248_01        NaN     False  F/1792/S  55 Cancri e  38.0    NaN   \n",
       "8674     9257_01        NaN     False  F/1892/P  TRAPPIST-1e  13.0  False   \n",
       "8684     9274_01        NaN      True  G/1508/P  TRAPPIST-1e  23.0  False   \n",
       "\n",
       "      RoomService  FoodCourt  ShoppingMall    Spa  VRDeck             Name  \\\n",
       "59            0.0        0.0           NaN    0.0     0.0      Colatz Keen   \n",
       "113           0.0     2344.0           0.0   65.0  6898.0     Batan Coning   \n",
       "186           0.0        0.0           NaN    0.0     0.0   Arraid Inicont   \n",
       "225         313.0        1.0         691.0  283.0     0.0       Almone Sté   \n",
       "234           0.0        0.0           0.0    0.0     0.0    Diphah Amsive   \n",
       "...           ...        ...           ...    ...     ...              ...   \n",
       "8515       1258.0        0.0          22.0   19.0     0.0        Jurs Mone   \n",
       "8613          0.0     4017.0           0.0   13.0  3147.0              NaN   \n",
       "8666         28.0     1208.0         973.0  207.0     0.0       Gian Perle   \n",
       "8674         39.0        0.0        1085.0   24.0     0.0       Ties Apple   \n",
       "8684          0.0        0.0           0.0    0.0     0.0  Chelsa Bullisey   \n",
       "\n",
       "      Transported  \n",
       "59           True  \n",
       "113         False  \n",
       "186          True  \n",
       "225         False  \n",
       "234          True  \n",
       "...           ...  \n",
       "8515        False  \n",
       "8613        False  \n",
       "8666         True  \n",
       "8674        False  \n",
       "8684         True  \n",
       "\n",
       "[201 rows x 14 columns]"
      ]
     },
     "execution_count": 58,
     "metadata": {},
     "output_type": "execute_result"
    }
   ],
   "source": [
    "train[train[\"HomePlanet\"].isnull()]"
   ]
  },
  {
   "cell_type": "code",
   "execution_count": 163,
   "id": "d79cccdc-100a-4389-96ae-36a62e133784",
   "metadata": {},
   "outputs": [],
   "source": [
    "mapping = {}\n",
    "for i,j in zip(home_group[\"Group\"], home_group[\"HomePlanet\"]) : \n",
    "    mapping[i] = j "
   ]
  },
  {
   "cell_type": "code",
   "execution_count": null,
   "id": "9abcbc1a-c04d-403c-ab58-896f95d7c611",
   "metadata": {},
   "outputs": [
    {
     "data": {
      "text/plain": [
       "111"
      ]
     },
     "execution_count": 114,
     "metadata": {},
     "output_type": "execute_result"
    }
   ],
   "source": [
    "train[\"HomePlanet\"].isnull().sum()"
   ]
  },
  {
   "cell_type": "code",
   "execution_count": null,
   "id": "18dda62d-2223-41ff-9c57-ba8aaee1f1cb",
   "metadata": {},
   "outputs": [
    {
     "data": {
      "text/html": [
       "<div>\n",
       "<style scoped>\n",
       "    .dataframe tbody tr th:only-of-type {\n",
       "        vertical-align: middle;\n",
       "    }\n",
       "\n",
       "    .dataframe tbody tr th {\n",
       "        vertical-align: top;\n",
       "    }\n",
       "\n",
       "    .dataframe thead th {\n",
       "        text-align: right;\n",
       "    }\n",
       "</style>\n",
       "<table border=\"1\" class=\"dataframe\">\n",
       "  <thead>\n",
       "    <tr style=\"text-align: right;\">\n",
       "      <th></th>\n",
       "      <th>PassengerId</th>\n",
       "      <th>HomePlanet</th>\n",
       "      <th>CryoSleep</th>\n",
       "      <th>Cabin</th>\n",
       "      <th>Destination</th>\n",
       "      <th>Age</th>\n",
       "      <th>VIP</th>\n",
       "      <th>RoomService</th>\n",
       "      <th>FoodCourt</th>\n",
       "      <th>ShoppingMall</th>\n",
       "      <th>Spa</th>\n",
       "      <th>VRDeck</th>\n",
       "      <th>Name</th>\n",
       "      <th>Transported</th>\n",
       "      <th>Group</th>\n",
       "    </tr>\n",
       "  </thead>\n",
       "  <tbody>\n",
       "    <tr>\n",
       "      <th>186</th>\n",
       "      <td>0210_01</td>\n",
       "      <td>NaN</td>\n",
       "      <td>True</td>\n",
       "      <td>D/6/P</td>\n",
       "      <td>55 Cancri e</td>\n",
       "      <td>24.0</td>\n",
       "      <td>False</td>\n",
       "      <td>0.0</td>\n",
       "      <td>0.0</td>\n",
       "      <td>NaN</td>\n",
       "      <td>0.0</td>\n",
       "      <td>0.0</td>\n",
       "      <td>Arraid Inicont</td>\n",
       "      <td>True</td>\n",
       "      <td>0210</td>\n",
       "    </tr>\n",
       "    <tr>\n",
       "      <th>225</th>\n",
       "      <td>0242_01</td>\n",
       "      <td>NaN</td>\n",
       "      <td>False</td>\n",
       "      <td>F/46/S</td>\n",
       "      <td>TRAPPIST-1e</td>\n",
       "      <td>18.0</td>\n",
       "      <td>False</td>\n",
       "      <td>313.0</td>\n",
       "      <td>1.0</td>\n",
       "      <td>691.0</td>\n",
       "      <td>283.0</td>\n",
       "      <td>0.0</td>\n",
       "      <td>Almone Sté</td>\n",
       "      <td>False</td>\n",
       "      <td>0242</td>\n",
       "    </tr>\n",
       "    <tr>\n",
       "      <th>234</th>\n",
       "      <td>0251_01</td>\n",
       "      <td>NaN</td>\n",
       "      <td>True</td>\n",
       "      <td>C/11/S</td>\n",
       "      <td>55 Cancri e</td>\n",
       "      <td>54.0</td>\n",
       "      <td>False</td>\n",
       "      <td>0.0</td>\n",
       "      <td>0.0</td>\n",
       "      <td>0.0</td>\n",
       "      <td>0.0</td>\n",
       "      <td>0.0</td>\n",
       "      <td>Diphah Amsive</td>\n",
       "      <td>True</td>\n",
       "      <td>0251</td>\n",
       "    </tr>\n",
       "    <tr>\n",
       "      <th>274</th>\n",
       "      <td>0303_01</td>\n",
       "      <td>NaN</td>\n",
       "      <td>True</td>\n",
       "      <td>G/41/S</td>\n",
       "      <td>TRAPPIST-1e</td>\n",
       "      <td>23.0</td>\n",
       "      <td>False</td>\n",
       "      <td>0.0</td>\n",
       "      <td>0.0</td>\n",
       "      <td>0.0</td>\n",
       "      <td>0.0</td>\n",
       "      <td>0.0</td>\n",
       "      <td>Oraryn Kirklander</td>\n",
       "      <td>True</td>\n",
       "      <td>0303</td>\n",
       "    </tr>\n",
       "    <tr>\n",
       "      <th>286</th>\n",
       "      <td>0315_01</td>\n",
       "      <td>NaN</td>\n",
       "      <td>True</td>\n",
       "      <td>G/42/S</td>\n",
       "      <td>PSO J318.5-22</td>\n",
       "      <td>35.0</td>\n",
       "      <td>False</td>\n",
       "      <td>0.0</td>\n",
       "      <td>0.0</td>\n",
       "      <td>0.0</td>\n",
       "      <td>0.0</td>\n",
       "      <td>0.0</td>\n",
       "      <td>Adriet Valezaley</td>\n",
       "      <td>True</td>\n",
       "      <td>0315</td>\n",
       "    </tr>\n",
       "    <tr>\n",
       "      <th>...</th>\n",
       "      <td>...</td>\n",
       "      <td>...</td>\n",
       "      <td>...</td>\n",
       "      <td>...</td>\n",
       "      <td>...</td>\n",
       "      <td>...</td>\n",
       "      <td>...</td>\n",
       "      <td>...</td>\n",
       "      <td>...</td>\n",
       "      <td>...</td>\n",
       "      <td>...</td>\n",
       "      <td>...</td>\n",
       "      <td>...</td>\n",
       "      <td>...</td>\n",
       "      <td>...</td>\n",
       "    </tr>\n",
       "    <tr>\n",
       "      <th>8468</th>\n",
       "      <td>9043_01</td>\n",
       "      <td>NaN</td>\n",
       "      <td>True</td>\n",
       "      <td>F/1848/P</td>\n",
       "      <td>TRAPPIST-1e</td>\n",
       "      <td>25.0</td>\n",
       "      <td>False</td>\n",
       "      <td>0.0</td>\n",
       "      <td>0.0</td>\n",
       "      <td>0.0</td>\n",
       "      <td>0.0</td>\n",
       "      <td>0.0</td>\n",
       "      <td>Cobix Erle</td>\n",
       "      <td>True</td>\n",
       "      <td>9043</td>\n",
       "    </tr>\n",
       "    <tr>\n",
       "      <th>8515</th>\n",
       "      <td>9084_01</td>\n",
       "      <td>NaN</td>\n",
       "      <td>False</td>\n",
       "      <td>E/582/P</td>\n",
       "      <td>TRAPPIST-1e</td>\n",
       "      <td>25.0</td>\n",
       "      <td>False</td>\n",
       "      <td>1258.0</td>\n",
       "      <td>0.0</td>\n",
       "      <td>22.0</td>\n",
       "      <td>19.0</td>\n",
       "      <td>0.0</td>\n",
       "      <td>Jurs Mone</td>\n",
       "      <td>False</td>\n",
       "      <td>9084</td>\n",
       "    </tr>\n",
       "    <tr>\n",
       "      <th>8666</th>\n",
       "      <td>9248_01</td>\n",
       "      <td>NaN</td>\n",
       "      <td>False</td>\n",
       "      <td>F/1792/S</td>\n",
       "      <td>55 Cancri e</td>\n",
       "      <td>38.0</td>\n",
       "      <td>NaN</td>\n",
       "      <td>28.0</td>\n",
       "      <td>1208.0</td>\n",
       "      <td>973.0</td>\n",
       "      <td>207.0</td>\n",
       "      <td>0.0</td>\n",
       "      <td>Gian Perle</td>\n",
       "      <td>True</td>\n",
       "      <td>9248</td>\n",
       "    </tr>\n",
       "    <tr>\n",
       "      <th>8674</th>\n",
       "      <td>9257_01</td>\n",
       "      <td>NaN</td>\n",
       "      <td>False</td>\n",
       "      <td>F/1892/P</td>\n",
       "      <td>TRAPPIST-1e</td>\n",
       "      <td>13.0</td>\n",
       "      <td>False</td>\n",
       "      <td>39.0</td>\n",
       "      <td>0.0</td>\n",
       "      <td>1085.0</td>\n",
       "      <td>24.0</td>\n",
       "      <td>0.0</td>\n",
       "      <td>Ties Apple</td>\n",
       "      <td>False</td>\n",
       "      <td>9257</td>\n",
       "    </tr>\n",
       "    <tr>\n",
       "      <th>8684</th>\n",
       "      <td>9274_01</td>\n",
       "      <td>NaN</td>\n",
       "      <td>True</td>\n",
       "      <td>G/1508/P</td>\n",
       "      <td>TRAPPIST-1e</td>\n",
       "      <td>23.0</td>\n",
       "      <td>False</td>\n",
       "      <td>0.0</td>\n",
       "      <td>0.0</td>\n",
       "      <td>0.0</td>\n",
       "      <td>0.0</td>\n",
       "      <td>0.0</td>\n",
       "      <td>Chelsa Bullisey</td>\n",
       "      <td>True</td>\n",
       "      <td>9274</td>\n",
       "    </tr>\n",
       "  </tbody>\n",
       "</table>\n",
       "<p>111 rows × 15 columns</p>\n",
       "</div>"
      ],
      "text/plain": [
       "     PassengerId HomePlanet CryoSleep     Cabin    Destination   Age    VIP  \\\n",
       "186      0210_01        NaN      True     D/6/P    55 Cancri e  24.0  False   \n",
       "225      0242_01        NaN     False    F/46/S    TRAPPIST-1e  18.0  False   \n",
       "234      0251_01        NaN      True    C/11/S    55 Cancri e  54.0  False   \n",
       "274      0303_01        NaN      True    G/41/S    TRAPPIST-1e  23.0  False   \n",
       "286      0315_01        NaN      True    G/42/S  PSO J318.5-22  35.0  False   \n",
       "...          ...        ...       ...       ...            ...   ...    ...   \n",
       "8468     9043_01        NaN      True  F/1848/P    TRAPPIST-1e  25.0  False   \n",
       "8515     9084_01        NaN     False   E/582/P    TRAPPIST-1e  25.0  False   \n",
       "8666     9248_01        NaN     False  F/1792/S    55 Cancri e  38.0    NaN   \n",
       "8674     9257_01        NaN     False  F/1892/P    TRAPPIST-1e  13.0  False   \n",
       "8684     9274_01        NaN      True  G/1508/P    TRAPPIST-1e  23.0  False   \n",
       "\n",
       "      RoomService  FoodCourt  ShoppingMall    Spa  VRDeck               Name  \\\n",
       "186           0.0        0.0           NaN    0.0     0.0     Arraid Inicont   \n",
       "225         313.0        1.0         691.0  283.0     0.0         Almone Sté   \n",
       "234           0.0        0.0           0.0    0.0     0.0      Diphah Amsive   \n",
       "274           0.0        0.0           0.0    0.0     0.0  Oraryn Kirklander   \n",
       "286           0.0        0.0           0.0    0.0     0.0   Adriet Valezaley   \n",
       "...           ...        ...           ...    ...     ...                ...   \n",
       "8468          0.0        0.0           0.0    0.0     0.0         Cobix Erle   \n",
       "8515       1258.0        0.0          22.0   19.0     0.0          Jurs Mone   \n",
       "8666         28.0     1208.0         973.0  207.0     0.0         Gian Perle   \n",
       "8674         39.0        0.0        1085.0   24.0     0.0         Ties Apple   \n",
       "8684          0.0        0.0           0.0    0.0     0.0    Chelsa Bullisey   \n",
       "\n",
       "      Transported Group  \n",
       "186          True  0210  \n",
       "225         False  0242  \n",
       "234          True  0251  \n",
       "274          True  0303  \n",
       "286          True  0315  \n",
       "...           ...   ...  \n",
       "8468         True  9043  \n",
       "8515        False  9084  \n",
       "8666         True  9248  \n",
       "8674        False  9257  \n",
       "8684         True  9274  \n",
       "\n",
       "[111 rows x 15 columns]"
      ]
     },
     "execution_count": 113,
     "metadata": {},
     "output_type": "execute_result"
    }
   ],
   "source": [
    "train[train[\"HomePlanet\"].isnull()]"
   ]
  },
  {
   "cell_type": "markdown",
   "id": "e786330f-f52c-41fa-9727-94d22be715bf",
   "metadata": {
    "jp-MarkdownHeadingCollapsed": true,
    "tags": []
   },
   "source": [
    "#### Group이 n 일 때 HomePlanet의 null 값을 채우기"
   ]
  },
  {
   "cell_type": "code",
   "execution_count": 164,
   "id": "adb22336-5048-4f82-87fc-a5db54d182e4",
   "metadata": {},
   "outputs": [],
   "source": [
    "train[\"HomePlanet\"].fillna(train[\"Group\"].map(mapping), inplace = True)"
   ]
  },
  {
   "cell_type": "code",
   "execution_count": 165,
   "id": "ae513792-5ba1-4f8f-aa14-fbc259fda33a",
   "metadata": {},
   "outputs": [],
   "source": [
    "train[\"last_name\"] = train[\"Name\"].str.split(\" \").str[-1]\n",
    "# train[\"Name\"].str.split(\" \").str.get(1)"
   ]
  },
  {
   "cell_type": "code",
   "execution_count": 166,
   "id": "3c5af36e-0f7c-4954-804e-7f92b914d1fb",
   "metadata": {},
   "outputs": [],
   "source": [
    "name_group = train.groupby([\"last_name\", \"HomePlanet\"]).size().reset_index()"
   ]
  },
  {
   "cell_type": "code",
   "execution_count": 167,
   "id": "d0b4f85d-b221-4146-bbcd-4044da68b57a",
   "metadata": {},
   "outputs": [],
   "source": [
    "mapping2 = {}\n",
    "for i,j in zip(name_group[\"last_name\"], name_group[\"HomePlanet\"]) : \n",
    "    mapping2[i] = j "
   ]
  },
  {
   "cell_type": "code",
   "execution_count": 168,
   "id": "b0c3ac66-5d8d-4c35-b1f4-ef578f53c74b",
   "metadata": {},
   "outputs": [],
   "source": [
    "train[\"HomePlanet\"].fillna(train[\"last_name\"].map(mapping2), inplace = True)"
   ]
  },
  {
   "cell_type": "code",
   "execution_count": 177,
   "id": "6944cb2f-77dd-416a-9ca1-00b571c7c957",
   "metadata": {},
   "outputs": [],
   "source": [
    "mapping3 = {\"55 Cancri e\" : \"Europa\",\n",
    "           \"PSO J318.5-22\" : \"Earth\t\",\n",
    "           \"TRAPPIST-1e\" : \"Earth\"}"
   ]
  },
  {
   "cell_type": "code",
   "execution_count": 178,
   "id": "6935358b-b1d3-43f2-8270-f9f387237642",
   "metadata": {},
   "outputs": [],
   "source": [
    "train[\"HomePlanet\"].fillna(train[\"Destination\"].map(mapping3), inplace = True)"
   ]
  },
  {
   "cell_type": "markdown",
   "id": "aa2a13a4-0fc5-4275-a886-f94e8eebb5c9",
   "metadata": {
    "jp-MarkdownHeadingCollapsed": true,
    "tags": []
   },
   "source": [
    "#### VIP 확인해보기"
   ]
  },
  {
   "cell_type": "code",
   "execution_count": 183,
   "id": "9fa96862-1531-42f8-9d9d-3b10aa21b35e",
   "metadata": {},
   "outputs": [
    {
     "data": {
      "text/plain": [
       "False    8291\n",
       "False     203\n",
       "True      199\n",
       "Name: VIP, dtype: int64"
      ]
     },
     "execution_count": 183,
     "metadata": {},
     "output_type": "execute_result"
    }
   ],
   "source": [
    "train[\"VIP\"].value_counts()"
   ]
  },
  {
   "cell_type": "code",
   "execution_count": 184,
   "id": "77cb000c-f643-445a-989e-bdc970b81aa0",
   "metadata": {},
   "outputs": [
    {
     "data": {
      "text/plain": [
       "PassengerId       0\n",
       "HomePlanet        0\n",
       "CryoSleep       217\n",
       "Cabin           199\n",
       "Destination     182\n",
       "Age             179\n",
       "VIP               0\n",
       "RoomService     181\n",
       "FoodCourt       183\n",
       "ShoppingMall    208\n",
       "Spa             183\n",
       "VRDeck          188\n",
       "Name            200\n",
       "Transported       0\n",
       "Group             0\n",
       "last_name       200\n",
       "dtype: int64"
      ]
     },
     "execution_count": 184,
     "metadata": {},
     "output_type": "execute_result"
    }
   ],
   "source": [
    "train.isnull().sum()"
   ]
  },
  {
   "cell_type": "markdown",
   "id": "3907c953-4c99-4577-b268-a71028c46002",
   "metadata": {
    "jp-MarkdownHeadingCollapsed": true,
    "tags": []
   },
   "source": [
    "## paybill\n"
   ]
  },
  {
   "cell_type": "code",
   "execution_count": 185,
   "id": "07db43a3-de4d-47ba-853f-bcf6cedc16c7",
   "metadata": {},
   "outputs": [
    {
     "data": {
      "text/plain": [
       "Index(['PassengerId', 'HomePlanet', 'CryoSleep', 'Cabin', 'Destination', 'Age',\n",
       "       'VIP', 'RoomService', 'FoodCourt', 'ShoppingMall', 'Spa', 'VRDeck',\n",
       "       'Name', 'Transported', 'Group', 'last_name'],\n",
       "      dtype='object')"
      ]
     },
     "execution_count": 185,
     "metadata": {},
     "output_type": "execute_result"
    }
   ],
   "source": [
    "train.columns"
   ]
  },
  {
   "cell_type": "code",
   "execution_count": 192,
   "id": "713141b7-6d40-486c-8abe-b1bbed6430f2",
   "metadata": {},
   "outputs": [],
   "source": [
    "train[\"fee\"] = train[\"RoomService\"] + train[\"FoodCourt\"] + train[\"ShoppingMall\"] + train[\"Spa\"] + train[\"VRDeck\"]"
   ]
  },
  {
   "cell_type": "code",
   "execution_count": 187,
   "id": "583209a0-e3c7-45ec-af1a-40875c31512e",
   "metadata": {},
   "outputs": [
    {
     "data": {
      "text/plain": [
       "PassengerId       0\n",
       "HomePlanet        0\n",
       "CryoSleep       217\n",
       "Cabin           199\n",
       "Destination     182\n",
       "Age             179\n",
       "VIP               0\n",
       "RoomService     181\n",
       "FoodCourt       183\n",
       "ShoppingMall    208\n",
       "Spa             183\n",
       "VRDeck          188\n",
       "Name            200\n",
       "Transported       0\n",
       "Group             0\n",
       "last_name       200\n",
       "fee             908\n",
       "dtype: int64"
      ]
     },
     "execution_count": 187,
     "metadata": {},
     "output_type": "execute_result"
    }
   ],
   "source": [
    "train.isnull().sum()"
   ]
  },
  {
   "cell_type": "code",
   "execution_count": 188,
   "id": "4fee5947-bfbf-480a-9be2-c7a83007646c",
   "metadata": {},
   "outputs": [],
   "source": [
    "fee_list = [\"RoomService\",\"FoodCourt\",\"ShoppingMall\",\"Spa\",\"VRDeck\"]"
   ]
  },
  {
   "cell_type": "code",
   "execution_count": 191,
   "id": "17ee09d4-bbaf-41f9-89bc-8f60aa60f1da",
   "metadata": {},
   "outputs": [],
   "source": [
    "for col in fee_list : \n",
    "    train[col].fillna(train[col].median(), inplace = True)"
   ]
  },
  {
   "cell_type": "code",
   "execution_count": 193,
   "id": "50fdfe3c-0b10-4dff-afc4-95cc50d3e7f2",
   "metadata": {},
   "outputs": [
    {
     "data": {
      "text/plain": [
       "PassengerId       0\n",
       "HomePlanet        0\n",
       "CryoSleep       217\n",
       "Cabin           199\n",
       "Destination     182\n",
       "Age             179\n",
       "VIP               0\n",
       "RoomService       0\n",
       "FoodCourt         0\n",
       "ShoppingMall      0\n",
       "Spa               0\n",
       "VRDeck            0\n",
       "Name            200\n",
       "Transported       0\n",
       "Group             0\n",
       "last_name       200\n",
       "fee               0\n",
       "dtype: int64"
      ]
     },
     "execution_count": 193,
     "metadata": {},
     "output_type": "execute_result"
    }
   ],
   "source": [
    "train.isnull().sum()"
   ]
  },
  {
   "cell_type": "markdown",
   "id": "0f80595b-a287-4ded-a723-89da708ac232",
   "metadata": {
    "jp-MarkdownHeadingCollapsed": true,
    "tags": []
   },
   "source": [
    "## cabin"
   ]
  },
  {
   "cell_type": "code",
   "execution_count": 200,
   "id": "7c7b890c-df25-4b8e-a3f7-65f99efeb8ef",
   "metadata": {},
   "outputs": [],
   "source": [
    "train[\"deck\"] = train[\"Cabin\"].str.split(\"/\").str[0]"
   ]
  },
  {
   "cell_type": "code",
   "execution_count": 201,
   "id": "61bd3f9e-fa20-49f7-b619-11da641eeab5",
   "metadata": {},
   "outputs": [],
   "source": [
    "train[\"side\"] = train[\"Cabin\"].str.split(\"/\").str[-1]"
   ]
  },
  {
   "cell_type": "code",
   "execution_count": 229,
   "id": "b7687e8e-005e-4b7e-b4d8-5e66eeb42087",
   "metadata": {},
   "outputs": [
    {
     "data": {
      "text/plain": [
       "HomePlanet  deck\n",
       "Earth       D          1\n",
       "            E        404\n",
       "            F       1652\n",
       "            G       2559\n",
       "Europa      A        256\n",
       "            B        779\n",
       "            C        747\n",
       "            D        192\n",
       "            E        133\n",
       "            T          5\n",
       "Mars        D        285\n",
       "            E        339\n",
       "            F       1142\n",
       "dtype: int64"
      ]
     },
     "execution_count": 229,
     "metadata": {},
     "output_type": "execute_result"
    }
   ],
   "source": [
    "train.groupby([\"HomePlanet\", \"deck\"]).size()"
   ]
  },
  {
   "cell_type": "code",
   "execution_count": 232,
   "id": "8437f3e8-7d37-49b8-a9a9-0ff7ab1015b7",
   "metadata": {},
   "outputs": [],
   "source": [
    "train[\"deck\"].fillna(train[\"HomePlanet\"].map({\"Earth\" : \"G\", \"Europa\" : \"B\", \"Mars\" : \"F\"}), inplace = True)"
   ]
  },
  {
   "cell_type": "code",
   "execution_count": 233,
   "id": "3c36e6da-5e81-4d75-93a2-cc711e6c94b0",
   "metadata": {
    "collapsed": true,
    "jupyter": {
     "outputs_hidden": true
    },
    "tags": []
   },
   "outputs": [
    {
     "data": {
      "text/plain": [
       "PassengerId      0\n",
       "HomePlanet       0\n",
       "CryoSleep      217\n",
       "Cabin          199\n",
       "Destination    182\n",
       "Age            179\n",
       "VIP              0\n",
       "Name           200\n",
       "Transported      0\n",
       "Group            0\n",
       "last_name      200\n",
       "fee              0\n",
       "deck             0\n",
       "side           199\n",
       "dtype: int64"
      ]
     },
     "execution_count": 233,
     "metadata": {},
     "output_type": "execute_result"
    }
   ],
   "source": [
    "train.isnull().sum()"
   ]
  },
  {
   "cell_type": "code",
   "execution_count": 238,
   "id": "638dc6c2-b7b0-4c54-b3f2-4be90e1bb8a0",
   "metadata": {},
   "outputs": [],
   "source": [
    "side_group = train.groupby([\"Group\",\"side\"]).size().reset_index()"
   ]
  },
  {
   "cell_type": "code",
   "execution_count": 244,
   "id": "a4e107a0-25d2-4639-a8e8-32350aab0822",
   "metadata": {},
   "outputs": [],
   "source": [
    "mapping4 = {}\n",
    "for i,j in zip(side_group[\"Group\"], side_group[\"side\"]) :\n",
    "    mapping4[i] = j"
   ]
  },
  {
   "cell_type": "code",
   "execution_count": 252,
   "id": "27c06919-2356-42aa-989a-6d429e07e4c0",
   "metadata": {},
   "outputs": [
    {
     "data": {
      "text/html": [
       "<div>\n",
       "<style scoped>\n",
       "    .dataframe tbody tr th:only-of-type {\n",
       "        vertical-align: middle;\n",
       "    }\n",
       "\n",
       "    .dataframe tbody tr th {\n",
       "        vertical-align: top;\n",
       "    }\n",
       "\n",
       "    .dataframe thead th {\n",
       "        text-align: right;\n",
       "    }\n",
       "</style>\n",
       "<table border=\"1\" class=\"dataframe\">\n",
       "  <thead>\n",
       "    <tr style=\"text-align: right;\">\n",
       "      <th></th>\n",
       "      <th>PassengerId</th>\n",
       "      <th>HomePlanet</th>\n",
       "      <th>CryoSleep</th>\n",
       "      <th>Cabin</th>\n",
       "      <th>Destination</th>\n",
       "      <th>Age</th>\n",
       "      <th>VIP</th>\n",
       "      <th>Name</th>\n",
       "      <th>Transported</th>\n",
       "      <th>Group</th>\n",
       "      <th>last_name</th>\n",
       "      <th>fee</th>\n",
       "      <th>deck</th>\n",
       "      <th>side</th>\n",
       "    </tr>\n",
       "  </thead>\n",
       "  <tbody>\n",
       "    <tr>\n",
       "      <th>15</th>\n",
       "      <td>0012_01</td>\n",
       "      <td>Earth</td>\n",
       "      <td>False</td>\n",
       "      <td>NaN</td>\n",
       "      <td>TRAPPIST-1e</td>\n",
       "      <td>31.0</td>\n",
       "      <td>False</td>\n",
       "      <td>Justie Pooles</td>\n",
       "      <td>False</td>\n",
       "      <td>0012</td>\n",
       "      <td>Pooles</td>\n",
       "      <td>908.0</td>\n",
       "      <td>G</td>\n",
       "      <td>NaN</td>\n",
       "    </tr>\n",
       "    <tr>\n",
       "      <th>93</th>\n",
       "      <td>0101_01</td>\n",
       "      <td>Mars</td>\n",
       "      <td>True</td>\n",
       "      <td>NaN</td>\n",
       "      <td>TRAPPIST-1e</td>\n",
       "      <td>31.0</td>\n",
       "      <td>False</td>\n",
       "      <td>Book Trad</td>\n",
       "      <td>True</td>\n",
       "      <td>0101</td>\n",
       "      <td>Trad</td>\n",
       "      <td>0.0</td>\n",
       "      <td>F</td>\n",
       "      <td>NaN</td>\n",
       "    </tr>\n",
       "    <tr>\n",
       "      <th>222</th>\n",
       "      <td>0239_01</td>\n",
       "      <td>Mars</td>\n",
       "      <td>False</td>\n",
       "      <td>NaN</td>\n",
       "      <td>TRAPPIST-1e</td>\n",
       "      <td>37.0</td>\n",
       "      <td>False</td>\n",
       "      <td>Diedow Resty</td>\n",
       "      <td>False</td>\n",
       "      <td>0239</td>\n",
       "      <td>Resty</td>\n",
       "      <td>1048.0</td>\n",
       "      <td>F</td>\n",
       "      <td>NaN</td>\n",
       "    </tr>\n",
       "    <tr>\n",
       "      <th>272</th>\n",
       "      <td>0301_01</td>\n",
       "      <td>Earth</td>\n",
       "      <td>True</td>\n",
       "      <td>NaN</td>\n",
       "      <td>TRAPPIST-1e</td>\n",
       "      <td>16.0</td>\n",
       "      <td>False</td>\n",
       "      <td>Margia Wriggins</td>\n",
       "      <td>False</td>\n",
       "      <td>0301</td>\n",
       "      <td>Wriggins</td>\n",
       "      <td>0.0</td>\n",
       "      <td>G</td>\n",
       "      <td>NaN</td>\n",
       "    </tr>\n",
       "    <tr>\n",
       "      <th>280</th>\n",
       "      <td>0310_01</td>\n",
       "      <td>Europa</td>\n",
       "      <td>False</td>\n",
       "      <td>NaN</td>\n",
       "      <td>TRAPPIST-1e</td>\n",
       "      <td>67.0</td>\n",
       "      <td>False</td>\n",
       "      <td>Naviton Coudered</td>\n",
       "      <td>False</td>\n",
       "      <td>0310</td>\n",
       "      <td>Coudered</td>\n",
       "      <td>4947.0</td>\n",
       "      <td>B</td>\n",
       "      <td>NaN</td>\n",
       "    </tr>\n",
       "    <tr>\n",
       "      <th>...</th>\n",
       "      <td>...</td>\n",
       "      <td>...</td>\n",
       "      <td>...</td>\n",
       "      <td>...</td>\n",
       "      <td>...</td>\n",
       "      <td>...</td>\n",
       "      <td>...</td>\n",
       "      <td>...</td>\n",
       "      <td>...</td>\n",
       "      <td>...</td>\n",
       "      <td>...</td>\n",
       "      <td>...</td>\n",
       "      <td>...</td>\n",
       "      <td>...</td>\n",
       "    </tr>\n",
       "    <tr>\n",
       "      <th>7847</th>\n",
       "      <td>8375_01</td>\n",
       "      <td>Earth</td>\n",
       "      <td>False</td>\n",
       "      <td>NaN</td>\n",
       "      <td>PSO J318.5-22</td>\n",
       "      <td>15.0</td>\n",
       "      <td>False</td>\n",
       "      <td>Carlen Valezaley</td>\n",
       "      <td>True</td>\n",
       "      <td>8375</td>\n",
       "      <td>Valezaley</td>\n",
       "      <td>704.0</td>\n",
       "      <td>G</td>\n",
       "      <td>NaN</td>\n",
       "    </tr>\n",
       "    <tr>\n",
       "      <th>7899</th>\n",
       "      <td>8437_01</td>\n",
       "      <td>Earth</td>\n",
       "      <td>False</td>\n",
       "      <td>NaN</td>\n",
       "      <td>PSO J318.5-22</td>\n",
       "      <td>36.0</td>\n",
       "      <td>False</td>\n",
       "      <td>Anny Tersony</td>\n",
       "      <td>False</td>\n",
       "      <td>8437</td>\n",
       "      <td>Tersony</td>\n",
       "      <td>694.0</td>\n",
       "      <td>G</td>\n",
       "      <td>NaN</td>\n",
       "    </tr>\n",
       "    <tr>\n",
       "      <th>8039</th>\n",
       "      <td>8603_01</td>\n",
       "      <td>Earth</td>\n",
       "      <td>True</td>\n",
       "      <td>NaN</td>\n",
       "      <td>PSO J318.5-22</td>\n",
       "      <td>18.0</td>\n",
       "      <td>False</td>\n",
       "      <td>Hilip Klinson</td>\n",
       "      <td>False</td>\n",
       "      <td>8603</td>\n",
       "      <td>Klinson</td>\n",
       "      <td>0.0</td>\n",
       "      <td>G</td>\n",
       "      <td>NaN</td>\n",
       "    </tr>\n",
       "    <tr>\n",
       "      <th>8066</th>\n",
       "      <td>8623_01</td>\n",
       "      <td>Earth</td>\n",
       "      <td>False</td>\n",
       "      <td>NaN</td>\n",
       "      <td>TRAPPIST-1e</td>\n",
       "      <td>15.0</td>\n",
       "      <td>False</td>\n",
       "      <td>Vandy Hoffergess</td>\n",
       "      <td>False</td>\n",
       "      <td>8623</td>\n",
       "      <td>Hoffergess</td>\n",
       "      <td>1362.0</td>\n",
       "      <td>G</td>\n",
       "      <td>NaN</td>\n",
       "    </tr>\n",
       "    <tr>\n",
       "      <th>8656</th>\n",
       "      <td>9233_01</td>\n",
       "      <td>Earth</td>\n",
       "      <td>False</td>\n",
       "      <td>NaN</td>\n",
       "      <td>TRAPPIST-1e</td>\n",
       "      <td>41.0</td>\n",
       "      <td>False</td>\n",
       "      <td>Royce Giller</td>\n",
       "      <td>True</td>\n",
       "      <td>9233</td>\n",
       "      <td>Giller</td>\n",
       "      <td>671.0</td>\n",
       "      <td>G</td>\n",
       "      <td>NaN</td>\n",
       "    </tr>\n",
       "  </tbody>\n",
       "</table>\n",
       "<p>99 rows × 14 columns</p>\n",
       "</div>"
      ],
      "text/plain": [
       "     PassengerId HomePlanet CryoSleep Cabin    Destination   Age    VIP  \\\n",
       "15       0012_01      Earth     False   NaN    TRAPPIST-1e  31.0  False   \n",
       "93       0101_01       Mars      True   NaN    TRAPPIST-1e  31.0  False   \n",
       "222      0239_01       Mars     False   NaN    TRAPPIST-1e  37.0  False   \n",
       "272      0301_01      Earth      True   NaN    TRAPPIST-1e  16.0  False   \n",
       "280      0310_01     Europa     False   NaN    TRAPPIST-1e  67.0  False   \n",
       "...          ...        ...       ...   ...            ...   ...    ...   \n",
       "7847     8375_01      Earth     False   NaN  PSO J318.5-22  15.0  False   \n",
       "7899     8437_01      Earth     False   NaN  PSO J318.5-22  36.0  False   \n",
       "8039     8603_01      Earth      True   NaN  PSO J318.5-22  18.0  False   \n",
       "8066     8623_01      Earth     False   NaN    TRAPPIST-1e  15.0  False   \n",
       "8656     9233_01      Earth     False   NaN    TRAPPIST-1e  41.0  False   \n",
       "\n",
       "                  Name  Transported Group   last_name     fee deck side  \n",
       "15       Justie Pooles        False  0012      Pooles   908.0    G  NaN  \n",
       "93           Book Trad         True  0101        Trad     0.0    F  NaN  \n",
       "222       Diedow Resty        False  0239       Resty  1048.0    F  NaN  \n",
       "272    Margia Wriggins        False  0301    Wriggins     0.0    G  NaN  \n",
       "280   Naviton Coudered        False  0310    Coudered  4947.0    B  NaN  \n",
       "...                ...          ...   ...         ...     ...  ...  ...  \n",
       "7847  Carlen Valezaley         True  8375   Valezaley   704.0    G  NaN  \n",
       "7899      Anny Tersony        False  8437     Tersony   694.0    G  NaN  \n",
       "8039     Hilip Klinson        False  8603     Klinson     0.0    G  NaN  \n",
       "8066  Vandy Hoffergess        False  8623  Hoffergess  1362.0    G  NaN  \n",
       "8656      Royce Giller         True  9233      Giller   671.0    G  NaN  \n",
       "\n",
       "[99 rows x 14 columns]"
      ]
     },
     "execution_count": 252,
     "metadata": {},
     "output_type": "execute_result"
    }
   ],
   "source": [
    "train[train[\"side\"].isnull()]"
   ]
  },
  {
   "cell_type": "code",
   "execution_count": 250,
   "id": "506c5898-2f48-43f7-ac7b-b7ab26fb1794",
   "metadata": {},
   "outputs": [],
   "source": [
    "train[\"side\"].fillna(train[\"Group\"].map(mapping4), inplace = True)"
   ]
  },
  {
   "cell_type": "code",
   "execution_count": 251,
   "id": "c5d94e21-bf06-454e-9523-bf33f19847ea",
   "metadata": {},
   "outputs": [
    {
     "data": {
      "text/plain": [
       "PassengerId      0\n",
       "HomePlanet       0\n",
       "CryoSleep      217\n",
       "Cabin          199\n",
       "Destination    182\n",
       "Age            179\n",
       "VIP              0\n",
       "Name           200\n",
       "Transported      0\n",
       "Group            0\n",
       "last_name      200\n",
       "fee              0\n",
       "deck             0\n",
       "side            99\n",
       "dtype: int64"
      ]
     },
     "execution_count": 251,
     "metadata": {},
     "output_type": "execute_result"
    }
   ],
   "source": [
    "train.isnull().sum()"
   ]
  },
  {
   "cell_type": "code",
   "execution_count": 253,
   "id": "02a728f7-4b43-40a3-be98-e0d5c117fa6a",
   "metadata": {},
   "outputs": [
    {
     "data": {
      "text/html": [
       "<div>\n",
       "<style scoped>\n",
       "    .dataframe tbody tr th:only-of-type {\n",
       "        vertical-align: middle;\n",
       "    }\n",
       "\n",
       "    .dataframe tbody tr th {\n",
       "        vertical-align: top;\n",
       "    }\n",
       "\n",
       "    .dataframe thead th {\n",
       "        text-align: right;\n",
       "    }\n",
       "</style>\n",
       "<table border=\"1\" class=\"dataframe\">\n",
       "  <thead>\n",
       "    <tr style=\"text-align: right;\">\n",
       "      <th></th>\n",
       "      <th>PassengerId</th>\n",
       "      <th>HomePlanet</th>\n",
       "      <th>CryoSleep</th>\n",
       "      <th>Cabin</th>\n",
       "      <th>Destination</th>\n",
       "      <th>Age</th>\n",
       "      <th>VIP</th>\n",
       "      <th>Name</th>\n",
       "      <th>Transported</th>\n",
       "      <th>Group</th>\n",
       "      <th>last_name</th>\n",
       "      <th>fee</th>\n",
       "      <th>deck</th>\n",
       "      <th>side</th>\n",
       "    </tr>\n",
       "  </thead>\n",
       "  <tbody>\n",
       "    <tr>\n",
       "      <th>15</th>\n",
       "      <td>0012_01</td>\n",
       "      <td>Earth</td>\n",
       "      <td>False</td>\n",
       "      <td>NaN</td>\n",
       "      <td>TRAPPIST-1e</td>\n",
       "      <td>31.0</td>\n",
       "      <td>False</td>\n",
       "      <td>Justie Pooles</td>\n",
       "      <td>False</td>\n",
       "      <td>0012</td>\n",
       "      <td>Pooles</td>\n",
       "      <td>908.0</td>\n",
       "      <td>G</td>\n",
       "      <td>NaN</td>\n",
       "    </tr>\n",
       "    <tr>\n",
       "      <th>93</th>\n",
       "      <td>0101_01</td>\n",
       "      <td>Mars</td>\n",
       "      <td>True</td>\n",
       "      <td>NaN</td>\n",
       "      <td>TRAPPIST-1e</td>\n",
       "      <td>31.0</td>\n",
       "      <td>False</td>\n",
       "      <td>Book Trad</td>\n",
       "      <td>True</td>\n",
       "      <td>0101</td>\n",
       "      <td>Trad</td>\n",
       "      <td>0.0</td>\n",
       "      <td>F</td>\n",
       "      <td>NaN</td>\n",
       "    </tr>\n",
       "    <tr>\n",
       "      <th>222</th>\n",
       "      <td>0239_01</td>\n",
       "      <td>Mars</td>\n",
       "      <td>False</td>\n",
       "      <td>NaN</td>\n",
       "      <td>TRAPPIST-1e</td>\n",
       "      <td>37.0</td>\n",
       "      <td>False</td>\n",
       "      <td>Diedow Resty</td>\n",
       "      <td>False</td>\n",
       "      <td>0239</td>\n",
       "      <td>Resty</td>\n",
       "      <td>1048.0</td>\n",
       "      <td>F</td>\n",
       "      <td>NaN</td>\n",
       "    </tr>\n",
       "    <tr>\n",
       "      <th>272</th>\n",
       "      <td>0301_01</td>\n",
       "      <td>Earth</td>\n",
       "      <td>True</td>\n",
       "      <td>NaN</td>\n",
       "      <td>TRAPPIST-1e</td>\n",
       "      <td>16.0</td>\n",
       "      <td>False</td>\n",
       "      <td>Margia Wriggins</td>\n",
       "      <td>False</td>\n",
       "      <td>0301</td>\n",
       "      <td>Wriggins</td>\n",
       "      <td>0.0</td>\n",
       "      <td>G</td>\n",
       "      <td>NaN</td>\n",
       "    </tr>\n",
       "    <tr>\n",
       "      <th>280</th>\n",
       "      <td>0310_01</td>\n",
       "      <td>Europa</td>\n",
       "      <td>False</td>\n",
       "      <td>NaN</td>\n",
       "      <td>TRAPPIST-1e</td>\n",
       "      <td>67.0</td>\n",
       "      <td>False</td>\n",
       "      <td>Naviton Coudered</td>\n",
       "      <td>False</td>\n",
       "      <td>0310</td>\n",
       "      <td>Coudered</td>\n",
       "      <td>4947.0</td>\n",
       "      <td>B</td>\n",
       "      <td>NaN</td>\n",
       "    </tr>\n",
       "    <tr>\n",
       "      <th>...</th>\n",
       "      <td>...</td>\n",
       "      <td>...</td>\n",
       "      <td>...</td>\n",
       "      <td>...</td>\n",
       "      <td>...</td>\n",
       "      <td>...</td>\n",
       "      <td>...</td>\n",
       "      <td>...</td>\n",
       "      <td>...</td>\n",
       "      <td>...</td>\n",
       "      <td>...</td>\n",
       "      <td>...</td>\n",
       "      <td>...</td>\n",
       "      <td>...</td>\n",
       "    </tr>\n",
       "    <tr>\n",
       "      <th>7847</th>\n",
       "      <td>8375_01</td>\n",
       "      <td>Earth</td>\n",
       "      <td>False</td>\n",
       "      <td>NaN</td>\n",
       "      <td>PSO J318.5-22</td>\n",
       "      <td>15.0</td>\n",
       "      <td>False</td>\n",
       "      <td>Carlen Valezaley</td>\n",
       "      <td>True</td>\n",
       "      <td>8375</td>\n",
       "      <td>Valezaley</td>\n",
       "      <td>704.0</td>\n",
       "      <td>G</td>\n",
       "      <td>NaN</td>\n",
       "    </tr>\n",
       "    <tr>\n",
       "      <th>7899</th>\n",
       "      <td>8437_01</td>\n",
       "      <td>Earth</td>\n",
       "      <td>False</td>\n",
       "      <td>NaN</td>\n",
       "      <td>PSO J318.5-22</td>\n",
       "      <td>36.0</td>\n",
       "      <td>False</td>\n",
       "      <td>Anny Tersony</td>\n",
       "      <td>False</td>\n",
       "      <td>8437</td>\n",
       "      <td>Tersony</td>\n",
       "      <td>694.0</td>\n",
       "      <td>G</td>\n",
       "      <td>NaN</td>\n",
       "    </tr>\n",
       "    <tr>\n",
       "      <th>8039</th>\n",
       "      <td>8603_01</td>\n",
       "      <td>Earth</td>\n",
       "      <td>True</td>\n",
       "      <td>NaN</td>\n",
       "      <td>PSO J318.5-22</td>\n",
       "      <td>18.0</td>\n",
       "      <td>False</td>\n",
       "      <td>Hilip Klinson</td>\n",
       "      <td>False</td>\n",
       "      <td>8603</td>\n",
       "      <td>Klinson</td>\n",
       "      <td>0.0</td>\n",
       "      <td>G</td>\n",
       "      <td>NaN</td>\n",
       "    </tr>\n",
       "    <tr>\n",
       "      <th>8066</th>\n",
       "      <td>8623_01</td>\n",
       "      <td>Earth</td>\n",
       "      <td>False</td>\n",
       "      <td>NaN</td>\n",
       "      <td>TRAPPIST-1e</td>\n",
       "      <td>15.0</td>\n",
       "      <td>False</td>\n",
       "      <td>Vandy Hoffergess</td>\n",
       "      <td>False</td>\n",
       "      <td>8623</td>\n",
       "      <td>Hoffergess</td>\n",
       "      <td>1362.0</td>\n",
       "      <td>G</td>\n",
       "      <td>NaN</td>\n",
       "    </tr>\n",
       "    <tr>\n",
       "      <th>8656</th>\n",
       "      <td>9233_01</td>\n",
       "      <td>Earth</td>\n",
       "      <td>False</td>\n",
       "      <td>NaN</td>\n",
       "      <td>TRAPPIST-1e</td>\n",
       "      <td>41.0</td>\n",
       "      <td>False</td>\n",
       "      <td>Royce Giller</td>\n",
       "      <td>True</td>\n",
       "      <td>9233</td>\n",
       "      <td>Giller</td>\n",
       "      <td>671.0</td>\n",
       "      <td>G</td>\n",
       "      <td>NaN</td>\n",
       "    </tr>\n",
       "  </tbody>\n",
       "</table>\n",
       "<p>99 rows × 14 columns</p>\n",
       "</div>"
      ],
      "text/plain": [
       "     PassengerId HomePlanet CryoSleep Cabin    Destination   Age    VIP  \\\n",
       "15       0012_01      Earth     False   NaN    TRAPPIST-1e  31.0  False   \n",
       "93       0101_01       Mars      True   NaN    TRAPPIST-1e  31.0  False   \n",
       "222      0239_01       Mars     False   NaN    TRAPPIST-1e  37.0  False   \n",
       "272      0301_01      Earth      True   NaN    TRAPPIST-1e  16.0  False   \n",
       "280      0310_01     Europa     False   NaN    TRAPPIST-1e  67.0  False   \n",
       "...          ...        ...       ...   ...            ...   ...    ...   \n",
       "7847     8375_01      Earth     False   NaN  PSO J318.5-22  15.0  False   \n",
       "7899     8437_01      Earth     False   NaN  PSO J318.5-22  36.0  False   \n",
       "8039     8603_01      Earth      True   NaN  PSO J318.5-22  18.0  False   \n",
       "8066     8623_01      Earth     False   NaN    TRAPPIST-1e  15.0  False   \n",
       "8656     9233_01      Earth     False   NaN    TRAPPIST-1e  41.0  False   \n",
       "\n",
       "                  Name  Transported Group   last_name     fee deck side  \n",
       "15       Justie Pooles        False  0012      Pooles   908.0    G  NaN  \n",
       "93           Book Trad         True  0101        Trad     0.0    F  NaN  \n",
       "222       Diedow Resty        False  0239       Resty  1048.0    F  NaN  \n",
       "272    Margia Wriggins        False  0301    Wriggins     0.0    G  NaN  \n",
       "280   Naviton Coudered        False  0310    Coudered  4947.0    B  NaN  \n",
       "...                ...          ...   ...         ...     ...  ...  ...  \n",
       "7847  Carlen Valezaley         True  8375   Valezaley   704.0    G  NaN  \n",
       "7899      Anny Tersony        False  8437     Tersony   694.0    G  NaN  \n",
       "8039     Hilip Klinson        False  8603     Klinson     0.0    G  NaN  \n",
       "8066  Vandy Hoffergess        False  8623  Hoffergess  1362.0    G  NaN  \n",
       "8656      Royce Giller         True  9233      Giller   671.0    G  NaN  \n",
       "\n",
       "[99 rows x 14 columns]"
      ]
     },
     "execution_count": 253,
     "metadata": {},
     "output_type": "execute_result"
    }
   ],
   "source": [
    "train[train[\"side\"].isnull()]"
   ]
  },
  {
   "cell_type": "markdown",
   "id": "24c961f9-4bc9-489f-b6b0-6fc03266f14a",
   "metadata": {
    "jp-MarkdownHeadingCollapsed": true,
    "tags": []
   },
   "source": [
    "## Destination"
   ]
  },
  {
   "cell_type": "code",
   "execution_count": 261,
   "id": "33b9bd52-04be-4170-994c-e46a8b8d1d8d",
   "metadata": {},
   "outputs": [],
   "source": [
    "dest_group = train.groupby([\"Group\", \"Destination\"]).size().reset_index()"
   ]
  },
  {
   "cell_type": "code",
   "execution_count": 263,
   "id": "11d39002-851c-4b1a-b420-7a5113ac3ae8",
   "metadata": {},
   "outputs": [],
   "source": [
    "dest_group = dest_group.sort_values(0, ascending = False)"
   ]
  },
  {
   "cell_type": "code",
   "execution_count": 270,
   "id": "b24160f5-c007-46b1-b496-378cec936914",
   "metadata": {},
   "outputs": [],
   "source": [
    "dest_group = dest_group.drop_duplicates()"
   ]
  },
  {
   "cell_type": "code",
   "execution_count": 280,
   "id": "b370d266-4b7a-48f2-ba12-658f18bc9955",
   "metadata": {},
   "outputs": [],
   "source": [
    "mapping5 = {}\n",
    "for i, j in zip(dest_group[\"Group\"], dest_group[\"Destination\"]) :\n",
    "    mapping5[i] = j "
   ]
  },
  {
   "cell_type": "code",
   "execution_count": 281,
   "id": "2b1a6dc4-b08a-45f9-b55b-c0c806595112",
   "metadata": {},
   "outputs": [],
   "source": [
    "train[\"Destination\"].fillna(train[\"Group\"].map(mapping5), inplace = True)"
   ]
  },
  {
   "cell_type": "code",
   "execution_count": 282,
   "id": "2a163323-21e9-42cd-af6b-3876bf1cae5f",
   "metadata": {},
   "outputs": [
    {
     "data": {
      "text/plain": [
       "TRAPPIST-1e      5964\n",
       "55 Cancri e      1820\n",
       "PSO J318.5-22     806\n",
       "Name: Destination, dtype: int64"
      ]
     },
     "execution_count": 282,
     "metadata": {},
     "output_type": "execute_result"
    }
   ],
   "source": [
    "train[\"Destination\"].value_counts()"
   ]
  },
  {
   "cell_type": "code",
   "execution_count": 284,
   "id": "49543899-ce3c-429c-b314-6e000571fd13",
   "metadata": {},
   "outputs": [],
   "source": [
    "train[\"Destination\"].fillna(\"TRAPPIST-1e\", inplace = True)"
   ]
  },
  {
   "cell_type": "code",
   "execution_count": 285,
   "id": "c629a382-0fe4-4dc7-9208-dc4a25eecd00",
   "metadata": {},
   "outputs": [
    {
     "data": {
      "text/plain": [
       "PassengerId      0\n",
       "HomePlanet       0\n",
       "CryoSleep      217\n",
       "Cabin          199\n",
       "Destination      0\n",
       "Age            179\n",
       "VIP              0\n",
       "Name           200\n",
       "Transported      0\n",
       "Group            0\n",
       "last_name      200\n",
       "fee              0\n",
       "deck             0\n",
       "side             0\n",
       "dtype: int64"
      ]
     },
     "execution_count": 285,
     "metadata": {},
     "output_type": "execute_result"
    }
   ],
   "source": [
    "train.isnull().sum()"
   ]
  },
  {
   "cell_type": "markdown",
   "id": "5ec3b8cd-36bb-4cb1-88a4-41fdfd47bd68",
   "metadata": {
    "jp-MarkdownHeadingCollapsed": true,
    "tags": []
   },
   "source": [
    "## CryoSleep"
   ]
  },
  {
   "cell_type": "code",
   "execution_count": 290,
   "id": "8bece74d-7693-4417-9246-fc6cc3a2a827",
   "metadata": {},
   "outputs": [
    {
     "data": {
      "text/plain": [
       "PassengerId      0\n",
       "HomePlanet       0\n",
       "CryoSleep      217\n",
       "Cabin          199\n",
       "Destination      0\n",
       "Age            179\n",
       "VIP              0\n",
       "Name           200\n",
       "Transported      0\n",
       "Group            0\n",
       "last_name      200\n",
       "fee              0\n",
       "deck             0\n",
       "side             0\n",
       "dtype: int64"
      ]
     },
     "execution_count": 290,
     "metadata": {},
     "output_type": "execute_result"
    }
   ],
   "source": [
    "train.isnull().sum()"
   ]
  },
  {
   "cell_type": "code",
   "execution_count": 291,
   "id": "781d5261-b2a3-4950-aaf5-8e61b9b909aa",
   "metadata": {},
   "outputs": [
    {
     "data": {
      "text/plain": [
       "92         0.0\n",
       "98       703.0\n",
       "104     2018.0\n",
       "111        0.0\n",
       "152      990.0\n",
       "         ...  \n",
       "8620       0.0\n",
       "8651       0.0\n",
       "8664       0.0\n",
       "8675    2056.0\n",
       "8687    3540.0\n",
       "Name: fee, Length: 217, dtype: float64"
      ]
     },
     "execution_count": 291,
     "metadata": {},
     "output_type": "execute_result"
    }
   ],
   "source": [
    "train[train[\"CryoSleep\"].isnull()][\"fee\"]"
   ]
  },
  {
   "cell_type": "code",
   "execution_count": 293,
   "id": "fe2dfcf2-006f-49ec-a50a-227ccc4667a9",
   "metadata": {},
   "outputs": [],
   "source": [
    "train[\"CryoSleep\"] = np.where(train[\"fee\"] > 0, False, True)"
   ]
  },
  {
   "cell_type": "code",
   "execution_count": 295,
   "id": "d23927e2-9c79-42f5-bb1b-22881eede8b1",
   "metadata": {},
   "outputs": [
    {
     "data": {
      "text/plain": [
       "PassengerId      0\n",
       "HomePlanet       0\n",
       "CryoSleep        0\n",
       "Cabin          199\n",
       "Destination      0\n",
       "Age            179\n",
       "VIP              0\n",
       "Name           200\n",
       "Transported      0\n",
       "Group            0\n",
       "last_name      200\n",
       "fee              0\n",
       "deck             0\n",
       "side             0\n",
       "dtype: int64"
      ]
     },
     "execution_count": 295,
     "metadata": {},
     "output_type": "execute_result"
    }
   ],
   "source": [
    "train.isnull().sum()"
   ]
  },
  {
   "cell_type": "markdown",
   "id": "418dcbbe-3cff-4b6a-a5f4-934d03076657",
   "metadata": {
    "jp-MarkdownHeadingCollapsed": true,
    "tags": []
   },
   "source": [
    "## Age"
   ]
  },
  {
   "cell_type": "code",
   "execution_count": 296,
   "id": "6d4ad8b6-4c4b-4c2e-a972-8d5b9e15571b",
   "metadata": {},
   "outputs": [],
   "source": [
    "train[\"Age\"].fillna(train[\"Age\"].median(), inplace = True)"
   ]
  },
  {
   "cell_type": "code",
   "execution_count": 297,
   "id": "6f8abd0b-613a-4911-b480-9c63a4ebb85e",
   "metadata": {},
   "outputs": [
    {
     "data": {
      "text/plain": [
       "PassengerId      0\n",
       "HomePlanet       0\n",
       "CryoSleep        0\n",
       "Cabin          199\n",
       "Destination      0\n",
       "Age              0\n",
       "VIP              0\n",
       "Name           200\n",
       "Transported      0\n",
       "Group            0\n",
       "last_name      200\n",
       "fee              0\n",
       "deck             0\n",
       "side             0\n",
       "dtype: int64"
      ]
     },
     "execution_count": 297,
     "metadata": {},
     "output_type": "execute_result"
    }
   ],
   "source": [
    "train.isnull().sum()"
   ]
  },
  {
   "cell_type": "code",
   "execution_count": null,
   "id": "7c1c60ca-4ad1-469b-853e-fd2fac763f42",
   "metadata": {},
   "outputs": [],
   "source": []
  },
  {
   "cell_type": "markdown",
   "id": "746bdb7c-65a9-41df-8ba6-5ba77bf9cfea",
   "metadata": {
    "tags": []
   },
   "source": [
    "# 전처리"
   ]
  },
  {
   "cell_type": "markdown",
   "id": "1c35986c-d91f-4146-afe3-929b5167a71d",
   "metadata": {
    "tags": []
   },
   "source": [
    "### HomePlanet"
   ]
  },
  {
   "cell_type": "code",
   "execution_count": 211,
   "id": "437ec3d3-204a-4f04-bccd-b744c02cdeab",
   "metadata": {},
   "outputs": [],
   "source": [
    "train[\"Group\"] = train[\"PassengerId\"].str[:4]"
   ]
  },
  {
   "cell_type": "code",
   "execution_count": 356,
   "id": "abc8ac25-fd2b-4def-97eb-15269ffde391",
   "metadata": {},
   "outputs": [],
   "source": [
    "mapping = {}\n",
    "for i,j in zip(home_group[\"Group\"], home_group[\"HomePlanet\"]) : \n",
    "    mapping[i] = j "
   ]
  },
  {
   "cell_type": "code",
   "execution_count": 213,
   "id": "42dd39d7-2d78-4c90-859e-cf9232d628ac",
   "metadata": {
    "tags": []
   },
   "outputs": [],
   "source": [
    "home_group = train.groupby([\"Group\",\"HomePlanet\"]).size().reset_index()"
   ]
  },
  {
   "cell_type": "code",
   "execution_count": 214,
   "id": "37aa0f9d-2f48-4ff4-a7a3-1024482478b1",
   "metadata": {
    "tags": []
   },
   "outputs": [],
   "source": [
    "train[\"HomePlanet\"].fillna(train[\"Group\"].map(mapping), inplace = True)"
   ]
  },
  {
   "cell_type": "code",
   "execution_count": 215,
   "id": "db4288f9-18a2-49f4-9f67-965d05f99749",
   "metadata": {},
   "outputs": [],
   "source": [
    "train[\"last_name\"] = train[\"Name\"].str.split(\" \").str[-1]\n",
    "# train[\"Name\"].str.split(\" \").str.get(1)"
   ]
  },
  {
   "cell_type": "code",
   "execution_count": 216,
   "id": "5ebcbb89-8835-42fe-9648-43e52f1da705",
   "metadata": {},
   "outputs": [],
   "source": [
    "name_group = train.groupby([\"last_name\", \"HomePlanet\"]).size().reset_index()"
   ]
  },
  {
   "cell_type": "code",
   "execution_count": 217,
   "id": "3cdfe048-4741-4bf6-b93f-3a0fb473689b",
   "metadata": {},
   "outputs": [],
   "source": [
    "mapping2 = {}\n",
    "for i,j in zip(name_group[\"last_name\"], name_group[\"HomePlanet\"]) : \n",
    "    mapping2[i] = j "
   ]
  },
  {
   "cell_type": "code",
   "execution_count": 218,
   "id": "f4b92a1f-4172-43fd-91f8-3a396cd95a10",
   "metadata": {},
   "outputs": [],
   "source": [
    "train[\"HomePlanet\"].fillna(train[\"last_name\"].map(mapping2), inplace = True)"
   ]
  },
  {
   "cell_type": "code",
   "execution_count": 219,
   "id": "3f352c61-a3c2-476b-aacf-48498d70654c",
   "metadata": {},
   "outputs": [],
   "source": [
    "mapping3 = {\"55 Cancri e\" : \"Europa\",\n",
    "           \"PSO J318.5-22\" : \"Earth\",\n",
    "           \"TRAPPIST-1e\" : \"Earth\"}"
   ]
  },
  {
   "cell_type": "code",
   "execution_count": 220,
   "id": "f7e0148e-7e43-4e74-9582-d76921cfff7a",
   "metadata": {},
   "outputs": [],
   "source": [
    "train[\"HomePlanet\"].fillna(train[\"Destination\"].map(mapping3), inplace = True)"
   ]
  },
  {
   "cell_type": "markdown",
   "id": "5c356498-e13a-4393-b5b1-3972e6f8f45f",
   "metadata": {
    "tags": []
   },
   "source": [
    "### VIP"
   ]
  },
  {
   "cell_type": "code",
   "execution_count": 221,
   "id": "4852ff9d-f8ac-4e8d-9dd6-9fc390e5c926",
   "metadata": {},
   "outputs": [],
   "source": [
    "train[\"VIP\"].fillna(\"False\", inplace = True)"
   ]
  },
  {
   "cell_type": "markdown",
   "id": "7535238b-6134-4c12-a77a-16da59a367b9",
   "metadata": {
    "tags": []
   },
   "source": [
    "### bill"
   ]
  },
  {
   "cell_type": "code",
   "execution_count": 222,
   "id": "e51fd250-e3ad-44fd-8f7b-8da06cf756ae",
   "metadata": {},
   "outputs": [],
   "source": [
    "train[\"fee\"] = train[\"RoomService\"] + train[\"FoodCourt\"] + train[\"ShoppingMall\"] + train[\"Spa\"] + train[\"VRDeck\"]"
   ]
  },
  {
   "cell_type": "code",
   "execution_count": 223,
   "id": "0d05d5b0-8ddb-4bcd-bf1e-17391931677a",
   "metadata": {},
   "outputs": [],
   "source": [
    "fee_list = [\"RoomService\",\"FoodCourt\",\"ShoppingMall\",\"Spa\",\"VRDeck\"]"
   ]
  },
  {
   "cell_type": "code",
   "execution_count": 224,
   "id": "54fa77c5-eba9-483e-881c-d6e4b886c886",
   "metadata": {},
   "outputs": [],
   "source": [
    "for col in fee_list : \n",
    "    train[col].fillna(train[col].median(), inplace = True)"
   ]
  },
  {
   "cell_type": "code",
   "execution_count": 225,
   "id": "a7e0de61-4745-4c7d-a825-d22b66cc3b0e",
   "metadata": {},
   "outputs": [],
   "source": [
    "train[\"fee\"] = train[\"RoomService\"] + train[\"FoodCourt\"] + train[\"ShoppingMall\"] + train[\"Spa\"] + train[\"VRDeck\"]"
   ]
  },
  {
   "cell_type": "code",
   "execution_count": 226,
   "id": "0a32ff0b-0558-4dae-91e4-fd59046619ab",
   "metadata": {},
   "outputs": [],
   "source": [
    "train.drop([\"RoomService\",\"FoodCourt\",\"ShoppingMall\",\"Spa\",\"VRDeck\"], axis = 1, inplace = True)"
   ]
  },
  {
   "cell_type": "markdown",
   "id": "f11f0cd8-6c0e-4a65-9dd8-ce5fabe68b69",
   "metadata": {
    "tags": []
   },
   "source": [
    "### Cabin"
   ]
  },
  {
   "cell_type": "code",
   "execution_count": 227,
   "id": "72a4eb26-fe82-4e8d-a0f0-4420408e099a",
   "metadata": {},
   "outputs": [],
   "source": [
    "train[\"deck\"] = train[\"Cabin\"].str.split(\"/\").str[0]"
   ]
  },
  {
   "cell_type": "code",
   "execution_count": 228,
   "id": "93e2a909-6ff6-4823-b744-693815f9590f",
   "metadata": {},
   "outputs": [],
   "source": [
    "train[\"side\"] = train[\"Cabin\"].str.split(\"/\").str[-1]"
   ]
  },
  {
   "cell_type": "code",
   "execution_count": 232,
   "id": "4b006572-4c40-4ea6-bfdb-e37b77f1a2d8",
   "metadata": {},
   "outputs": [],
   "source": [
    "train[\"deck\"].fillna(train[\"HomePlanet\"].map({\"Earth\" : \"G\", \"Europa\" : \"B\", \"Mars\" : \"F\"}), inplace = True)"
   ]
  },
  {
   "cell_type": "code",
   "execution_count": 238,
   "id": "738489e2-fedc-4ba6-a99d-324fea73eb8b",
   "metadata": {},
   "outputs": [],
   "source": [
    "side_group = train.groupby([\"Group\",\"side\"]).size().reset_index()"
   ]
  },
  {
   "cell_type": "code",
   "execution_count": 244,
   "id": "b667d5b1-8ae8-4a27-aa70-ad5c9ffcb835",
   "metadata": {},
   "outputs": [],
   "source": [
    "mapping4 = {}\n",
    "for i,j in zip(side_group[\"Group\"], side_group[\"side\"]) :\n",
    "    mapping4[i] = j"
   ]
  },
  {
   "cell_type": "code",
   "execution_count": 250,
   "id": "e7cdfc87-eaee-4dcc-b51d-4d7c9062a0d3",
   "metadata": {},
   "outputs": [],
   "source": [
    "train[\"side\"].fillna(train[\"Group\"].map(mapping4), inplace = True)"
   ]
  },
  {
   "cell_type": "code",
   "execution_count": 256,
   "id": "d1c4ff2c-a0a3-4da5-a85d-69863ada86ef",
   "metadata": {},
   "outputs": [],
   "source": [
    "train[\"side\"].fillna(\"S\", inplace = True)"
   ]
  },
  {
   "cell_type": "markdown",
   "id": "51d4c149-cc5d-4125-b4bc-b300b0e1c89a",
   "metadata": {
    "tags": []
   },
   "source": [
    "## Destination"
   ]
  },
  {
   "cell_type": "code",
   "execution_count": 261,
   "id": "a098b92a-5866-4bce-add0-7515275fcc14",
   "metadata": {},
   "outputs": [],
   "source": [
    "dest_group = train.groupby([\"Group\", \"Destination\"]).size().reset_index()"
   ]
  },
  {
   "cell_type": "code",
   "execution_count": 263,
   "id": "a9bdeed5-696a-43cf-ada9-deedf33d93f7",
   "metadata": {},
   "outputs": [],
   "source": [
    "dest_group = dest_group.sort_values(0, ascending = False)"
   ]
  },
  {
   "cell_type": "code",
   "execution_count": 270,
   "id": "9dbf8919-ad76-4967-9eab-5b569236459f",
   "metadata": {},
   "outputs": [],
   "source": [
    "dest_group = dest_group.drop_duplicates()"
   ]
  },
  {
   "cell_type": "code",
   "execution_count": 280,
   "id": "88a011ef-7234-4e90-b73f-889a4877a03c",
   "metadata": {},
   "outputs": [],
   "source": [
    "mapping5 = {}\n",
    "for i, j in zip(dest_group[\"Group\"], dest_group[\"Destination\"]) :\n",
    "    mapping5[i] = j "
   ]
  },
  {
   "cell_type": "code",
   "execution_count": 281,
   "id": "9dd07edc-647e-4337-a4e2-eb6d7a785f96",
   "metadata": {},
   "outputs": [],
   "source": [
    "train[\"Destination\"].fillna(train[\"Group\"].map(mapping5), inplace = True)"
   ]
  },
  {
   "cell_type": "code",
   "execution_count": 284,
   "id": "2240cc1a-b685-44ab-b935-646e8af6b4e9",
   "metadata": {},
   "outputs": [],
   "source": [
    "train[\"Destination\"].fillna(\"TRAPPIST-1e\", inplace = True)"
   ]
  },
  {
   "cell_type": "code",
   "execution_count": null,
   "id": "d9716f06-ac35-44e8-9561-6848128d61a8",
   "metadata": {},
   "outputs": [],
   "source": []
  },
  {
   "cell_type": "markdown",
   "id": "dde06866-ea2f-4cac-90ad-dd2cd382fb4b",
   "metadata": {
    "tags": []
   },
   "source": [
    "## CryoSleep"
   ]
  },
  {
   "cell_type": "code",
   "execution_count": 293,
   "id": "ff60b2c0-90f7-4108-97a4-d434b7465c3b",
   "metadata": {},
   "outputs": [],
   "source": [
    "train[\"CryoSleep\"] = np.where(train[\"fee\"] > 0, False, True)"
   ]
  },
  {
   "cell_type": "markdown",
   "id": "b1597f90-ee47-46bf-9992-5b2c052a93a4",
   "metadata": {
    "tags": []
   },
   "source": [
    "## AGE"
   ]
  },
  {
   "cell_type": "code",
   "execution_count": 296,
   "id": "4e4bdc5b-d763-4427-9e9b-aa067f31aba9",
   "metadata": {},
   "outputs": [],
   "source": [
    "train[\"Age\"].fillna(train[\"Age\"].median(), inplace = True)"
   ]
  },
  {
   "cell_type": "code",
   "execution_count": null,
   "id": "0afd4848-d00c-4036-9abe-b9e13021737d",
   "metadata": {},
   "outputs": [],
   "source": []
  },
  {
   "cell_type": "markdown",
   "id": "ff470194-e011-4690-89ed-66c5808160a4",
   "metadata": {
    "jp-MarkdownHeadingCollapsed": true,
    "tags": []
   },
   "source": [
    "# feature에 사용되지 않는 컬럼 삭제"
   ]
  },
  {
   "cell_type": "code",
   "execution_count": 298,
   "id": "0c2cfccb-3efb-4fc0-8d64-f37f7e74125f",
   "metadata": {},
   "outputs": [
    {
     "data": {
      "text/plain": [
       "Index(['PassengerId', 'HomePlanet', 'CryoSleep', 'Cabin', 'Destination', 'Age',\n",
       "       'VIP', 'Name', 'Transported', 'Group', 'last_name', 'fee', 'deck',\n",
       "       'side'],\n",
       "      dtype='object')"
      ]
     },
     "execution_count": 298,
     "metadata": {},
     "output_type": "execute_result"
    }
   ],
   "source": [
    "train.columns"
   ]
  },
  {
   "cell_type": "code",
   "execution_count": 299,
   "id": "8c61346c-148e-4e16-a5c8-4b8e27900b84",
   "metadata": {},
   "outputs": [],
   "source": [
    "del_col = [\"PassengerId\", \"Name\", \"last_name\", \"Cabin\"]"
   ]
  },
  {
   "cell_type": "code",
   "execution_count": 301,
   "id": "5203b701-6cfc-4b19-a5e5-53361f1fa0eb",
   "metadata": {},
   "outputs": [],
   "source": [
    "train = train.drop(del_col, axis = 1)"
   ]
  },
  {
   "cell_type": "markdown",
   "id": "5635f601-dca2-40ef-af51-3fdae55f12cf",
   "metadata": {
    "tags": []
   },
   "source": [
    "# 원 핫 인코딩"
   ]
  },
  {
   "cell_type": "code",
   "execution_count": 304,
   "id": "bc502723-2664-4038-9c53-2c2c384af3ba",
   "metadata": {},
   "outputs": [],
   "source": [
    "from sklearn.preprocessing import LabelEncoder"
   ]
  },
  {
   "cell_type": "code",
   "execution_count": 330,
   "id": "a32abbd1-4c52-4bff-b61c-a766ae62c259",
   "metadata": {},
   "outputs": [],
   "source": [
    "train[\"VIP\"] = train[\"VIP\"].astype(bool)"
   ]
  },
  {
   "cell_type": "code",
   "execution_count": 325,
   "id": "d6413f00-f470-4834-b046-5db27c85002e",
   "metadata": {},
   "outputs": [],
   "source": [
    "obj_col = []\n",
    "for i,j in zip(train.columns, train.dtypes) :\n",
    "    if j == \"object\" :\n",
    "        obj_col.append(i)"
   ]
  },
  {
   "cell_type": "code",
   "execution_count": 322,
   "id": "2526d938-3b7d-4be2-9a9d-59ed3e30ed95",
   "metadata": {
    "collapsed": true,
    "jupyter": {
     "outputs_hidden": true
    },
    "tags": []
   },
   "outputs": [
    {
     "name": "stdout",
     "output_type": "stream",
     "text": [
      "<class 'pandas.core.frame.DataFrame'>\n",
      "RangeIndex: 8693 entries, 0 to 8692\n",
      "Data columns (total 10 columns):\n",
      " #   Column       Non-Null Count  Dtype  \n",
      "---  ------       --------------  -----  \n",
      " 0   HomePlanet   8693 non-null   int32  \n",
      " 1   CryoSleep    8693 non-null   bool   \n",
      " 2   Destination  8693 non-null   int32  \n",
      " 3   Age          8693 non-null   float64\n",
      " 4   VIP          8693 non-null   object \n",
      " 5   Transported  8693 non-null   bool   \n",
      " 6   Group        8693 non-null   object \n",
      " 7   fee          8693 non-null   float64\n",
      " 8   deck         8693 non-null   object \n",
      " 9   side         8693 non-null   object \n",
      "dtypes: bool(2), float64(2), int32(2), object(4)\n",
      "memory usage: 492.5+ KB\n"
     ]
    }
   ],
   "source": [
    "train.info()"
   ]
  },
  {
   "cell_type": "code",
   "execution_count": 333,
   "id": "63ad08b2-fe60-486f-8160-a001d72e256e",
   "metadata": {
    "tags": []
   },
   "outputs": [],
   "source": [
    "for col in obj_col :\n",
    "    label = LabelEncoder()\n",
    "    train[col] = label.fit_transform(train[col])"
   ]
  },
  {
   "cell_type": "markdown",
   "id": "c090a13d-bb70-4468-990d-dd89c702837d",
   "metadata": {
    "tags": []
   },
   "source": [
    "# 모델 학습"
   ]
  },
  {
   "cell_type": "code",
   "execution_count": 350,
   "id": "a1f0a03a-e0dc-44d2-985d-dd2e43de4e0b",
   "metadata": {},
   "outputs": [],
   "source": [
    "from xgboost import XGBClassifier\n",
    "import lightgbm as lgb\n",
    "from sklearn.ensemble import RandomForestClassifier"
   ]
  },
  {
   "cell_type": "code",
   "execution_count": 346,
   "id": "10aa657b-de76-44cc-89c1-454375182d91",
   "metadata": {},
   "outputs": [],
   "source": [
    "x = train.drop(\"Transported\", axis = 1)"
   ]
  },
  {
   "cell_type": "code",
   "execution_count": 347,
   "id": "bf7ec786-7ba4-402f-a585-c1f982d7a797",
   "metadata": {},
   "outputs": [],
   "source": [
    "y = train[\"Transported\"]"
   ]
  },
  {
   "cell_type": "code",
   "execution_count": 348,
   "id": "570262b8-6fd8-4dfa-b079-2e1e476fbc0d",
   "metadata": {},
   "outputs": [],
   "source": [
    "x_train, x_test, y_train, y_test = train_test_split(x, y, test_size = 0.2, stratify = y, random_state=42)"
   ]
  },
  {
   "cell_type": "code",
   "execution_count": 351,
   "id": "6e0e769a-1e27-4fc1-aa49-02620b2b1fd6",
   "metadata": {},
   "outputs": [],
   "source": [
    "model1 = XGBClassifier()\n",
    "model2 = lgb.LGBMClassifier()\n",
    "model3 = RandomForestClassifier()\n",
    "model_list = [model1,model2,model3]"
   ]
  },
  {
   "cell_type": "code",
   "execution_count": 359,
   "id": "38d1059d-e419-46f3-8bcb-ed09ae4a89f1",
   "metadata": {
    "tags": []
   },
   "outputs": [
    {
     "name": "stdout",
     "output_type": "stream",
     "text": [
      "####################################################################################################\n",
      "트레인 XGBClassifier(base_score=0.5, booster='gbtree', callbacks=None,\n",
      "              colsample_bylevel=1, colsample_bynode=1, colsample_bytree=1,\n",
      "              early_stopping_rounds=None, enable_categorical=False,\n",
      "              eval_metric=None, feature_types=None, gamma=0, gpu_id=-1,\n",
      "              grow_policy='depthwise', importance_type=None,\n",
      "              interaction_constraints='', learning_rate=0.300000012,\n",
      "              max_bin=256, max_cat_threshold=64, max_cat_to_onehot=4,\n",
      "              max_delta_step=0, max_depth=6, max_leaves=0, min_child_weight=1,\n",
      "              missing=nan, monotone_constraints='()', n_estimators=100,\n",
      "              n_jobs=0, num_parallel_tree=1, predictor='auto', random_state=0, ...) : 0.9060972102387115\n",
      " 테스트 XGBClassifier(base_score=0.5, booster='gbtree', callbacks=None,\n",
      "              colsample_bylevel=1, colsample_bynode=1, colsample_bytree=1,\n",
      "              early_stopping_rounds=None, enable_categorical=False,\n",
      "              eval_metric=None, feature_types=None, gamma=0, gpu_id=-1,\n",
      "              grow_policy='depthwise', importance_type=None,\n",
      "              interaction_constraints='', learning_rate=0.300000012,\n",
      "              max_bin=256, max_cat_threshold=64, max_cat_to_onehot=4,\n",
      "              max_delta_step=0, max_depth=6, max_leaves=0, min_child_weight=1,\n",
      "              missing=nan, monotone_constraints='()', n_estimators=100,\n",
      "              n_jobs=0, num_parallel_tree=1, predictor='auto', random_state=0, ...) : 0.7515813686026452\n",
      "####################################################################################################\n",
      "트레인 LGBMClassifier() : 0.8331895312050618\n",
      " 테스트 LGBMClassifier() : 0.7515813686026452\n",
      "####################################################################################################\n",
      "트레인 RandomForestClassifier() : 0.999137187230371\n",
      " 테스트 RandomForestClassifier() : 0.7469810235767682\n"
     ]
    }
   ],
   "source": [
    "for model in model_list :\n",
    "    model.fit(x_train, y_train)\n",
    "    print(\"#\" * 100)\n",
    "    print(f\"트레인 {model} : {model.score(x_train, y_train)}\")\n",
    "    print(f\" 테스트 {model} : {model.score(x_test, y_test)}\")"
   ]
  },
  {
   "cell_type": "code",
   "execution_count": 360,
   "id": "f75d7be3-db50-45cc-bf50-ac598e320b5e",
   "metadata": {},
   "outputs": [],
   "source": [
    "import pickle"
   ]
  },
  {
   "cell_type": "code",
   "execution_count": 365,
   "id": "5ed2f4e2-9418-4d29-b860-53983eb5068b",
   "metadata": {},
   "outputs": [],
   "source": [
    "with open(\"model.pkl\", \"wb\") as f :\n",
    "    pickle.dump(model2, f)"
   ]
  },
  {
   "cell_type": "code",
   "execution_count": null,
   "id": "72f13d9b-bbcf-43ef-ad03-cf1fd6e0e871",
   "metadata": {},
   "outputs": [],
   "source": [
    "for col in obj_col :\n",
    "    label = LabelEncoder()\n",
    "    loan[col] = label.fit_transform(loan[col])\n",
    "    filename = f\"label_{col}.pkl\"\n",
    "    with open(f'./pkl/{filename}', \"wb\") as f : \n",
    "        pickle.dump(label, f)"
   ]
  }
 ],
 "metadata": {
  "kernelspec": {
   "display_name": "Python 3 (ipykernel)",
   "language": "python",
   "name": "python3"
  },
  "language_info": {
   "codemirror_mode": {
    "name": "ipython",
    "version": 3
   },
   "file_extension": ".py",
   "mimetype": "text/x-python",
   "name": "python",
   "nbconvert_exporter": "python",
   "pygments_lexer": "ipython3",
   "version": "3.9.12"
  }
 },
 "nbformat": 4,
 "nbformat_minor": 5
}
